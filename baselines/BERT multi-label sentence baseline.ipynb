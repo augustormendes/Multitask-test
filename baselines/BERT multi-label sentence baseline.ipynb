{
 "cells": [
  {
   "cell_type": "markdown",
   "id": "5b7ebdea",
   "metadata": {},
   "source": [
    "Fazendo baselines zero-shot/few-shot com o BERTimbau para ver se o GANBERT tem o efeito desejado"
   ]
  },
  {
   "cell_type": "code",
   "execution_count": 1,
   "id": "1cee16ef",
   "metadata": {},
   "outputs": [],
   "source": [
    "#pra conseguir algum erro util da porra do torch\n",
    "import os\n",
    "os.environ['CUDA_LAUNCH_BLOCKING'] = \"1\""
   ]
  },
  {
   "cell_type": "code",
   "execution_count": 2,
   "id": "1f0ce477",
   "metadata": {},
   "outputs": [],
   "source": [
    "import pandas as pd\n",
    "import numpy as np\n",
    "import seaborn as sns\n",
    "import matplotlib.pyplot as plt\n",
    "\n",
    "from transformers import pipeline, AutoTokenizer, BertForSequenceClassification, get_constant_schedule_with_warmup\n",
    "from sklearn.model_selection import train_test_split\n",
    "from sklearn.metrics import classification_report, roc_auc_score, roc_curve, average_precision_score,f1_score\n",
    "from tqdm import tqdm\n",
    "import random\n",
    "import torch\n",
    "import time\n",
    "import datetime\n",
    "from skmultilearn.skmultilearn.model_selection.iterative_stratification import iterative_train_test_split\n",
    "from sklearn.utils.class_weight import compute_class_weight\n",
    "\n",
    "\n",
    "tqdm.pandas()"
   ]
  },
  {
   "cell_type": "code",
   "execution_count": 3,
   "id": "0bf697ed",
   "metadata": {},
   "outputs": [],
   "source": [
    "seed_val = 2023\n",
    "random.seed(seed_val)\n",
    "np.random.seed(seed_val)\n",
    "torch.manual_seed(seed_val)\n",
    "if torch.cuda.is_available():\n",
    "  torch.cuda.manual_seed_all(seed_val)\n",
    "  device = 0"
   ]
  },
  {
   "cell_type": "code",
   "execution_count": 4,
   "id": "dfad0287",
   "metadata": {},
   "outputs": [],
   "source": [
    "class EarlyStopper:\n",
    "    def __init__(self, patience=4, min_delta=0,is_loss=True):\n",
    "        self.patience = patience\n",
    "        self.min_delta = min_delta\n",
    "        self.counter = 0\n",
    "        self.is_loss = is_loss\n",
    "        if is_loss:\n",
    "            self.min_validation_loss = np.inf\n",
    "        else:\n",
    "            self.min_validation_loss = -np.inf\n",
    "\n",
    "    def early_stop(self, validation_loss):\n",
    "        if self.is_loss:\n",
    "            if validation_loss < self.min_validation_loss:\n",
    "                self.min_validation_loss = validation_loss\n",
    "                self.counter = 0\n",
    "                print(\"NEW LOWEST LOSS \",self.min_validation_loss)\n",
    "            elif validation_loss >= (self.min_validation_loss + self.min_delta):\n",
    "                self.counter += 1\n",
    "                if self.counter >= self.patience:\n",
    "                    return True\n",
    "            return False\n",
    "        \n",
    "        else:\n",
    "            if validation_loss > self.min_validation_loss:\n",
    "                self.min_validation_loss = validation_loss\n",
    "                self.counter = 0\n",
    "                print(\"NEW HIGHEST SCORE \",self.min_validation_loss)\n",
    "            elif validation_loss <= (self.min_validation_loss + self.min_delta):\n",
    "                self.counter += 1\n",
    "                if self.counter >= self.patience:\n",
    "                    return True\n",
    "            return False"
   ]
  },
  {
   "cell_type": "code",
   "execution_count": 5,
   "id": "de6156d2",
   "metadata": {},
   "outputs": [],
   "source": [
    "stop = EarlyStopper(is_loss=True)"
   ]
  },
  {
   "cell_type": "code",
   "execution_count": 6,
   "id": "70ddac2e",
   "metadata": {},
   "outputs": [],
   "source": [
    "def format_time(elapsed):\n",
    "    '''\n",
    "    Takes a time in seconds and returns a string hh:mm:ss\n",
    "    '''\n",
    "    # Round to the nearest second.\n",
    "    elapsed_rounded = int(round((elapsed)))\n",
    "    # Format as hh:mm:ss\n",
    "    return str(datetime.timedelta(seconds=elapsed_rounded))"
   ]
  },
  {
   "cell_type": "code",
   "execution_count": 7,
   "id": "c3a030e5",
   "metadata": {},
   "outputs": [],
   "source": [
    "device = 0 if torch.cuda.is_available() else -1\n",
    "remove_neutral_instances= False\n"
   ]
  },
  {
   "cell_type": "markdown",
   "id": "edc20282",
   "metadata": {},
   "source": [
    "# Dados"
   ]
  },
  {
   "cell_type": "code",
   "execution_count": 8,
   "id": "07ed0992",
   "metadata": {},
   "outputs": [],
   "source": [
    "def process_data(df,remove_neutral_instances=False):\n",
    "    df['Alteração na eficiência/funcionalidade'] = (df['Alteração na eficiência/funcionalidade'] == 1) | (df[\"Alteração da funcionalidade\"] == 1) | (df[\"Alteração na eficiência\"] == 1)\n",
    "    df = df.drop([\"Postagem com possível perfil depressivo\",\"Alteração na eficiência\",\n",
    "         \"Alteração da funcionalidade\",\"*\",'Agitação/inquietação','Sintoma obsessivo e compulsivo','Déficit de atenção/Memória',\n",
    "              'Perda/Diminuição do prazer/ Perda/Diminuição da libido'],axis=1)\n",
    "    df['Neutro'] =  df.iloc[:,1:].sum(axis=1) == 0\n",
    "    df = df.replace({True:1,False:0})\n",
    "    if remove_neutral_instances == True:\n",
    "        df = df.reset_index(drop=True)\n",
    "        df = df[df.iloc[:,1:].sum(axis=1) != 0]\n",
    "    df = df.reset_index(drop=True)\n",
    "    return df"
   ]
  },
  {
   "cell_type": "code",
   "execution_count": 9,
   "id": "421dcc12",
   "metadata": {},
   "outputs": [],
   "source": [
    "#df = pd.read_csv(\"data/segredos_sentenças_multitask_clean.csv\",index_col=0)\n",
    "#df['Alteração na eficiência/funcionalidade'] = (df['Alteração na eficiência/funcionalidade'] == 1) | (df[\"Alteração da funcionalidade\"] == 1) | (df[\"Alteração na eficiência\"] == 1)"
   ]
  },
  {
   "cell_type": "code",
   "execution_count": 10,
   "id": "08cdacb8",
   "metadata": {},
   "outputs": [],
   "source": [
    "#df = df.drop([\"Postagem com possível perfil depressivo\",\"Alteração na eficiência\",\n",
    "#         \"Alteração da funcionalidade\",\"*\",'Agitação/inquietação','Sintoma obsessivo e compulsivo','Déficit de atenção/Memória',\n",
    "#              'Perda/Diminuição do prazer/ Perda/Diminuição da libido'],axis=1)"
   ]
  },
  {
   "cell_type": "code",
   "execution_count": 11,
   "id": "1629af82",
   "metadata": {},
   "outputs": [],
   "source": [
    "train_df = process_data(pd.read_csv(\"data/segredos_sentenças_multitask_train_clean.csv\",index_col=0))\n",
    "test_df = process_data(pd.read_csv(\"data/segredos_sentenças_multitask_test_clean.csv\",index_col=0))\n"
   ]
  },
  {
   "cell_type": "code",
   "execution_count": 12,
   "id": "b6301640",
   "metadata": {},
   "outputs": [],
   "source": [
    "#symptom_num = df.iloc[:,1:].shape[1]\n",
    "#target_names = list(df.iloc[:,1:].columns)\n",
    "\n",
    "symptom_num = train_df.iloc[:,1:].shape[1]\n",
    "target_names = list(train_df.iloc[:,1:].columns)\n"
   ]
  },
  {
   "cell_type": "code",
   "execution_count": 13,
   "id": "1bf68782",
   "metadata": {},
   "outputs": [],
   "source": [
    "#if remove_neutral_instances == True:\n",
    "#    df = df.reset_index(drop=True)\n",
    "#    df = df[df.iloc[:,1:].sum(axis=1) != 0]\n",
    "    "
   ]
  },
  {
   "cell_type": "code",
   "execution_count": 14,
   "id": "44c228d6",
   "metadata": {},
   "outputs": [],
   "source": [
    "#df = df.reset_index(drop=True)"
   ]
  },
  {
   "cell_type": "code",
   "execution_count": 15,
   "id": "8e012d7b",
   "metadata": {},
   "outputs": [],
   "source": [
    "#from skmultilearn.skmultilearn.model_selection.iterative_stratification import IterativeStratification\n",
    "#strat = IterativeStratification(n_splits=2).split(df,df.iloc[:,1:])"
   ]
  },
  {
   "cell_type": "code",
   "execution_count": 16,
   "id": "487f75bc",
   "metadata": {},
   "outputs": [],
   "source": [
    "#train_df,_,test_df, _ = iterative_train_test_split(df,df.iloc[:,1:],test_size=0.5)"
   ]
  },
  {
   "cell_type": "code",
   "execution_count": 17,
   "id": "1b149c77",
   "metadata": {},
   "outputs": [],
   "source": [
    "#from iterstrat.ml_stratifiers import MultilabelStratifiedKFold\n",
    "\n",
    "#strat = MultilabelStratifiedKFold(n_splits=2, shuffle=True, random_state=seed_val).split(df,df.iloc[:,1:])"
   ]
  },
  {
   "cell_type": "code",
   "execution_count": 18,
   "id": "dacfe73f",
   "metadata": {},
   "outputs": [],
   "source": [
    "#for train_idx, test_idx in strat:\n",
    "\n",
    "#    train_df = df.loc[train_idx]\n",
    "#    test_df  = df.loc[test_idx]\n",
    "#    break"
   ]
  },
  {
   "cell_type": "code",
   "execution_count": 19,
   "id": "6a8b0dcc",
   "metadata": {},
   "outputs": [],
   "source": [
    "#for train_index,test_index in iterator:\n",
    "    #print(train_index)\n",
    "    #print(test_index)\n",
    "#    train_df = df.loc[train_index]\n",
    "#    test_df = df.loc[test_index]"
   ]
  },
  {
   "cell_type": "code",
   "execution_count": 20,
   "id": "055b19f3",
   "metadata": {},
   "outputs": [],
   "source": [
    "#label_to_idx = {sintoma:i for i,sintoma in enumerate(label_list)}\n",
    "#idx_to_label = {i:sintoma for i,sintoma in enumerate(label_list)}"
   ]
  },
  {
   "cell_type": "markdown",
   "id": "1446e640",
   "metadata": {},
   "source": [
    "# Usando só as embeddings (congelando as outras camadas)"
   ]
  },
  {
   "cell_type": "code",
   "execution_count": 21,
   "id": "3db29578",
   "metadata": {},
   "outputs": [],
   "source": [
    "#dataloaders\n",
    "\n",
    "max_length = 128\n",
    "\n",
    "def get_dataloader(df,tokenizer,batch_size,do_shuffle):\n",
    "    examples = []\n",
    "    input_ids = []\n",
    "    attention_masks = []\n",
    "    for text in df.text:\n",
    "        encoded = tokenizer.encode_plus(text,return_attention_mask=True,add_special_tokens=True,max_length = max_length,\n",
    "    padding=\"max_length\",truncation=True)\n",
    "        input_ids.append(encoded['input_ids'])\n",
    "        attention_masks.append(encoded['attention_mask'])\n",
    "    \n",
    "\n",
    "    input_ids = torch.tensor(input_ids)\n",
    "    attention_masks = torch.tensor(attention_masks)\n",
    "    labels = torch.tensor(df.iloc[:,1:].to_numpy(),dtype=torch.float32)\n",
    "    \n",
    "    dataset = torch.utils.data.TensorDataset(input_ids,attention_masks,labels)\n",
    "    \n",
    "    if do_shuffle:\n",
    "        sampler = torch.utils.data.RandomSampler\n",
    "    else:\n",
    "        sampler = torch.utils.data.SequentialSampler\n",
    "    return torch.utils.data.DataLoader(dataset,sampler = sampler(dataset),batch_size=batch_size)\n",
    "    \n",
    "       "
   ]
  },
  {
   "cell_type": "markdown",
   "id": "d734b006",
   "metadata": {},
   "source": [
    "## Usando só a \"cabeça\" do BertForSequenceClassification\n",
    "\n",
    "O modelo já vem com uma \"cabeça\": uma camada Linear ao fim do modelo, com n_out igual ao n° de classes"
   ]
  },
  {
   "cell_type": "code",
   "execution_count": 22,
   "id": "863c863a",
   "metadata": {},
   "outputs": [],
   "source": [
    "model_path = \"neuralmind/bert-base-portuguese-cased\""
   ]
  },
  {
   "cell_type": "code",
   "execution_count": 23,
   "id": "63937525",
   "metadata": {},
   "outputs": [],
   "source": [
    "learning_rate = 5e-5\n",
    "num_train_epochs =20\n",
    "print_each_n_step = 10\n",
    "seed = 42\n",
    "batch_size= 32\n",
    "\n",
    "\n"
   ]
  },
  {
   "cell_type": "code",
   "execution_count": 24,
   "id": "a6124a76",
   "metadata": {},
   "outputs": [],
   "source": [
    "seed_val = 2023\n",
    "random.seed(seed_val)\n",
    "np.random.seed(seed_val)\n",
    "torch.manual_seed(seed_val)\n",
    "if torch.cuda.is_available():\n",
    "  torch.cuda.manual_seed_all(seed_val)\n",
    "  device = 0"
   ]
  },
  {
   "cell_type": "code",
   "execution_count": 25,
   "id": "f0ea64a2",
   "metadata": {
    "scrolled": false
   },
   "outputs": [
    {
     "name": "stderr",
     "output_type": "stream",
     "text": [
      "Some weights of the model checkpoint at neuralmind/bert-base-portuguese-cased were not used when initializing BertForSequenceClassification: ['cls.predictions.decoder.weight', 'cls.predictions.transform.dense.bias', 'cls.predictions.transform.LayerNorm.bias', 'cls.seq_relationship.bias', 'cls.predictions.bias', 'cls.predictions.transform.LayerNorm.weight', 'cls.seq_relationship.weight', 'cls.predictions.transform.dense.weight']\n",
      "- This IS expected if you are initializing BertForSequenceClassification from the checkpoint of a model trained on another task or with another architecture (e.g. initializing a BertForSequenceClassification model from a BertForPreTraining model).\n",
      "- This IS NOT expected if you are initializing BertForSequenceClassification from the checkpoint of a model that you expect to be exactly identical (initializing a BertForSequenceClassification model from a BertForSequenceClassification model).\n",
      "Some weights of BertForSequenceClassification were not initialized from the model checkpoint at neuralmind/bert-base-portuguese-cased and are newly initialized: ['classifier.weight', 'classifier.bias']\n",
      "You should probably TRAIN this model on a down-stream task to be able to use it for predictions and inference.\n"
     ]
    }
   ],
   "source": [
    "model = BertForSequenceClassification.from_pretrained(model_path,num_labels=symptom_num)\n",
    "tokenizer = AutoTokenizer.from_pretrained(model_path)"
   ]
  },
  {
   "cell_type": "code",
   "execution_count": 26,
   "id": "1e2ac556",
   "metadata": {},
   "outputs": [],
   "source": [
    "train_dataloader = get_dataloader(train_df,tokenizer,batch_size,do_shuffle=True)\n",
    "test_dataloader = get_dataloader(test_df,tokenizer,batch_size,do_shuffle=False)"
   ]
  },
  {
   "cell_type": "markdown",
   "id": "d3168ddf",
   "metadata": {},
   "source": [
    "## Finetuning de tudo???"
   ]
  },
  {
   "cell_type": "code",
   "execution_count": 27,
   "id": "baa09a10",
   "metadata": {},
   "outputs": [],
   "source": [
    "learning_rate = 5e-5\n",
    "num_train_epochs = 20\n",
    "print_each_n_step = 10\n",
    "batch_size= 32\n",
    "warmup_proportion = 0.15\n",
    "apply_scheduler = True"
   ]
  },
  {
   "cell_type": "code",
   "execution_count": 28,
   "id": "6338b98a",
   "metadata": {},
   "outputs": [],
   "source": [
    "class BERTMixup(torch.nn.Module):\n",
    "    def __init__(self,model,frozen_layers=0,mixup_layer=12,mixup_alpha=1,dropout_rate=0.1):\n",
    "        super(BERTMixup,self).__init__()\n",
    "        self.model = model\n",
    "        for i, layer in enumerate(self.model.bert.encoder.layer):\n",
    "            if i < frozen_layers:\n",
    "                for param in layer.parameters():\n",
    "                    param.requires_grad=False\n",
    "        self.mixup_layer = mixup_layer\n",
    "        self.mixup_alpha = mixup_alpha\n",
    "        self.model.dropout.p = dropout_rate\n",
    "    \n",
    "    def forward(self,input_ids,attention_mask,labels):\n",
    "        extended_attention_mask: extended_attention_mask = attention_mask[:, None,None,:]\n",
    "        extended_attention_mask = extended_attention_mask.to(dtype=torch.float)\n",
    "        extended_attention_mask = (1.0 - extended_attention_mask) * torch.finfo(torch.float).min\n",
    "        \n",
    "        outputs = self.model.bert.embeddings(input_ids)\n",
    "        \n",
    "        for i, layer in enumerate(self.model.bert.encoder.layer):\n",
    "            outputs = layer(outputs,attention_mask=extended_attention_mask)[0]\n",
    "            if self.training:\n",
    "                if i == (self.mixup_layer-1):\n",
    "                    outputs, labels_a, labels_b, lamb = mixup(outputs,labels,self.mixup_alpha)\n",
    "        outputs = self.model.bert.pooler(outputs)\n",
    "        outputs = self.model.dropout(outputs)\n",
    "        outputs = self.model.classifier(outputs)\n",
    "                \n",
    "        if self.training:\n",
    "            return outputs,labels_a,labels_b,lamb\n",
    "        else:\n",
    "            return outputs\n"
   ]
  },
  {
   "cell_type": "code",
   "execution_count": 29,
   "id": "f285c595",
   "metadata": {},
   "outputs": [],
   "source": [
    "def mixup_criterion(criterion_params_a,criterion_params_b,lamb,criterion):\n",
    "    return criterion(*criterion_params_a) * lamb + criterion(*criterion_params_b) * (1-lamb)"
   ]
  },
  {
   "cell_type": "code",
   "execution_count": 30,
   "id": "cd6c20ce",
   "metadata": {},
   "outputs": [],
   "source": [
    "model = BERTMixup(model)\n",
    "model = model.to(device)"
   ]
  },
  {
   "cell_type": "code",
   "execution_count": 31,
   "id": "503fdf99",
   "metadata": {},
   "outputs": [],
   "source": [
    "#para referência https://link.springer.com/chapter/10.1007/978-3-642-38679-4_37\n",
    "#e também https://www.kaggle.com/code/rejpalcz/best-loss-function-for-f1-score-metric\n",
    "\n",
    "#por algum motivo foi pior do que otimizar por BCE...\n",
    "#ainda é bom deixar guardado aqui, vai que é útil um dia!\n",
    "def f1_differentiable_loss(sigmoid_vals,labels):\n",
    "    #em caso de precisão ou recall igual a 0\n",
    "    eps=1e-10\n",
    "    #estamos tratando das probabilidades.\n",
    "    #por exemplo, se labels é [0,1] e temos a prob [0.3,0.9]\n",
    "    #temos um true positive rate de 0 + 0.9\n",
    "    # um true negative rate de 0.7 + 0\n",
    "    # um false positive rate de 0.3\n",
    "    # e por fim um false negative rate de 0.1\n",
    "    tp = torch.sum(labels*sigmoid_vals)\n",
    "    tn = torch.sum((1-labels)*(1-sigmoid_vals))\n",
    "    fp = torch.sum((1-labels)*sigmoid_vals)\n",
    "    fn = torch.sum(labels * (1-sigmoid_vals))\n",
    "    \n",
    "    p = tp / (tp + fp + eps)\n",
    "    r = tp / (tp + fn +eps)\n",
    "    \n",
    "    f1 = 2*p*r/ (p+r + eps)\n",
    "    #queremos minimizar a perda de f1, portanto 1-f1\n",
    "    return 1-f1.mean()"
   ]
  },
  {
   "cell_type": "code",
   "execution_count": 32,
   "id": "f8b4e210",
   "metadata": {},
   "outputs": [],
   "source": [
    "#fazendo minha própria focal loss porque a focal loss do kornia não funfa. \n",
    "#Por que o cara do pytorch mentiu pra mim ;_; ??\n",
    "\n",
    "def focal_loss(inputs,target,alpha=1,gamma=2):\n",
    "    #lembrando que a focal loss é só uma CE com \"modulating factors\"[\n",
    "    base = torch.nn.BCELoss()(inputs,target)\n",
    "    prob_diffs = (target - inputs).abs()\n",
    "    loss = alpha *( (prob_diffs**gamma) * base )\n",
    "    return loss.mean()\n",
    "    \n",
    "    \n",
    "def focal_binary_cross_entropy(p, targets, gamma=4):\n",
    "    #l = logits.reshape(-1)\n",
    "    #t = targets.reshape(-1)\n",
    "    #p = torch.sigmoid(l)\n",
    "    p = torch.where(targets >= 0.5, p, 1-p)\n",
    "    logp = - torch.log(torch.clamp(p, 1e-4, 1-1e-4))\n",
    "    loss = logp*((1-p)**gamma)\n",
    "    num_label = targets.shape[1]\n",
    "    loss = num_label*loss.mean()\n",
    "    return loss"
   ]
  },
  {
   "cell_type": "code",
   "execution_count": 33,
   "id": "289f8e82",
   "metadata": {},
   "outputs": [],
   "source": [
    "#def new_and_improved(p,targets,gamma=3,alpha=0.8):\n",
    "    #bce = torch.nn.functional.binary_cross_entropy(p,targets,reduction='none')\n",
    "#    p = torch.where(targets == 1,p,1-p)\n",
    "#    alpha = targets * alpha + (1-targets) * (1 - alpha)\n",
    "#    return (alpha * (1 - p) ** gamma).mean()"
   ]
  },
  {
   "cell_type": "code",
   "execution_count": 34,
   "id": "61c790df",
   "metadata": {},
   "outputs": [],
   "source": [
    "def new_and_improved(p,targets,gamma=3,alpha=0.8):\n",
    "    bce = torch.nn.functional.binary_cross_entropy(p,targets,reduction='none')\n",
    "    p = torch.where(targets == 1,p,1-p)\n",
    "    alpha = targets * alpha + (1-targets) * (1 - alpha)\n",
    "    loss = (bce * alpha * (1 - p) ** gamma)\n",
    "    return loss.mean()"
   ]
  },
  {
   "cell_type": "code",
   "execution_count": 35,
   "id": "8eb0d6c6",
   "metadata": {},
   "outputs": [],
   "source": [
    "def find_best_threshold(true_labels, probs):\n",
    "    eps=1e-10\n",
    "    thresholds = [i*0.1 for i in range(1,10)]\n",
    "    max_score = 0\n",
    "    for threshold in thresholds:\n",
    "        cur_score = f1_score(true_labels,probs>threshold,average=\"macro\")\n",
    "        if cur_score > max_score:\n",
    "            max_score = cur_score\n",
    "            best_threshold = threshold\n",
    "    return best_threshold\n"
   ]
  },
  {
   "cell_type": "code",
   "execution_count": 36,
   "id": "eb5eb5c2",
   "metadata": {},
   "outputs": [],
   "source": [
    "def mixup(batch_ids,batch_labels,alpha=1):\n",
    "    '''Returns mixed inputs, pairs of targets, and lambda'''\n",
    "    if alpha > 0:\n",
    "        lam = np.random.beta(alpha, alpha)\n",
    "    else:\n",
    "        lam = 1\n",
    "\n",
    "    batch_size = batch_ids.size()[0]\n",
    " \n",
    "    index = torch.randperm(batch_size).cuda()\n",
    "\n",
    "    \n",
    "    mixed_x = lam * batch_ids + (1 - lam) * batch_ids[index, :]\n",
    "    #using bigger input mask\n",
    "    #mixed_masks = batch_masks | batch_masks[index,:]\n",
    "    y_a, y_b = batch_labels, batch_labels[index]\n",
    "    return mixed_x, y_a, y_b, lam"
   ]
  },
  {
   "cell_type": "code",
   "execution_count": 37,
   "id": "c7a23e59",
   "metadata": {},
   "outputs": [],
   "source": [
    "#model.dropout.p = 0.5"
   ]
  },
  {
   "cell_type": "code",
   "execution_count": 38,
   "id": "a7885ef3",
   "metadata": {},
   "outputs": [],
   "source": [
    "def get_inverse_class_freqs(data):\n",
    "    return 1 -torch.tensor(data.sum()/data.shape[0]).to(device)"
   ]
  },
  {
   "cell_type": "code",
   "execution_count": null,
   "id": "8ce2456c",
   "metadata": {},
   "outputs": [],
   "source": []
  },
  {
   "cell_type": "code",
   "execution_count": 39,
   "id": "0dc9c73e",
   "metadata": {
    "scrolled": false
   },
   "outputs": [
    {
     "name": "stdout",
     "output_type": "stream",
     "text": [
      "\n",
      "======== Epoch 1 / 20 ========\n",
      "Training...\n",
      "  Batch    10  of    122.    Elapsed: 0:00:05.\n",
      "  Batch    20  of    122.    Elapsed: 0:00:09.\n",
      "  Batch    30  of    122.    Elapsed: 0:00:13.\n",
      "  Batch    40  of    122.    Elapsed: 0:00:18.\n",
      "  Batch    50  of    122.    Elapsed: 0:00:22.\n",
      "  Batch    60  of    122.    Elapsed: 0:00:26.\n",
      "  Batch    70  of    122.    Elapsed: 0:00:31.\n",
      "  Batch    80  of    122.    Elapsed: 0:00:35.\n",
      "  Batch    90  of    122.    Elapsed: 0:00:39.\n",
      "  Batch   100  of    122.    Elapsed: 0:00:44.\n",
      "  Batch   110  of    122.    Elapsed: 0:00:48.\n",
      "  Batch   120  of    122.    Elapsed: 0:00:52.\n",
      "best threshold:  0.2\n",
      "\n",
      "  Average training loss: 0.014\n",
      "  Training epoch took: 0:00:53\n",
      "\n",
      "Running Test...\n",
      "F1-score:  0.09032771813679263\n",
      "  Test Loss: 0.011\n",
      "  Test took: 0:00:56\n",
      "NEW LOWEST LOSS  0.010696673765778542\n",
      "\n",
      "======== Epoch 2 / 20 ========\n",
      "Training...\n",
      "  Batch    10  of    122.    Elapsed: 0:00:04.\n",
      "  Batch    20  of    122.    Elapsed: 0:00:09.\n",
      "  Batch    30  of    122.    Elapsed: 0:00:13.\n",
      "  Batch    40  of    122.    Elapsed: 0:00:17.\n",
      "  Batch    50  of    122.    Elapsed: 0:00:21.\n",
      "  Batch    60  of    122.    Elapsed: 0:00:26.\n",
      "  Batch    70  of    122.    Elapsed: 0:00:30.\n",
      "  Batch    80  of    122.    Elapsed: 0:00:34.\n",
      "  Batch    90  of    122.    Elapsed: 0:00:39.\n",
      "  Batch   100  of    122.    Elapsed: 0:00:43.\n",
      "  Batch   110  of    122.    Elapsed: 0:00:47.\n",
      "  Batch   120  of    122.    Elapsed: 0:00:52.\n",
      "best threshold:  0.4\n",
      "\n",
      "  Average training loss: 0.009\n",
      "  Training epoch took: 0:00:52\n",
      "\n",
      "Running Test...\n",
      "F1-score:  0.13645707225834625\n",
      "  Test Loss: 0.010\n",
      "  Test took: 0:00:56\n",
      "NEW LOWEST LOSS  0.009676579385995865\n",
      "\n",
      "======== Epoch 3 / 20 ========\n",
      "Training...\n",
      "  Batch    10  of    122.    Elapsed: 0:00:04.\n",
      "  Batch    20  of    122.    Elapsed: 0:00:09.\n",
      "  Batch    30  of    122.    Elapsed: 0:00:13.\n",
      "  Batch    40  of    122.    Elapsed: 0:00:17.\n",
      "  Batch    50  of    122.    Elapsed: 0:00:22.\n",
      "  Batch    60  of    122.    Elapsed: 0:00:26.\n",
      "  Batch    70  of    122.    Elapsed: 0:00:30.\n",
      "  Batch    80  of    122.    Elapsed: 0:00:35.\n",
      "  Batch    90  of    122.    Elapsed: 0:00:39.\n",
      "  Batch   100  of    122.    Elapsed: 0:00:43.\n",
      "  Batch   110  of    122.    Elapsed: 0:00:47.\n",
      "  Batch   120  of    122.    Elapsed: 0:00:52.\n",
      "best threshold:  0.4\n",
      "\n",
      "  Average training loss: 0.008\n",
      "  Training epoch took: 0:00:52\n",
      "\n",
      "Running Test...\n",
      "F1-score:  0.20138441460135495\n",
      "  Test Loss: 0.009\n",
      "  Test took: 0:00:56\n",
      "NEW LOWEST LOSS  0.00877451803535223\n",
      "\n",
      "======== Epoch 4 / 20 ========\n",
      "Training...\n",
      "  Batch    10  of    122.    Elapsed: 0:00:04.\n",
      "  Batch    20  of    122.    Elapsed: 0:00:09.\n",
      "  Batch    30  of    122.    Elapsed: 0:00:13.\n",
      "  Batch    40  of    122.    Elapsed: 0:00:17.\n",
      "  Batch    50  of    122.    Elapsed: 0:00:22.\n",
      "  Batch    60  of    122.    Elapsed: 0:00:26.\n",
      "  Batch    70  of    122.    Elapsed: 0:00:30.\n",
      "  Batch    80  of    122.    Elapsed: 0:00:35.\n",
      "  Batch    90  of    122.    Elapsed: 0:00:39.\n",
      "  Batch   100  of    122.    Elapsed: 0:00:43.\n",
      "  Batch   110  of    122.    Elapsed: 0:00:48.\n",
      "  Batch   120  of    122.    Elapsed: 0:00:52.\n",
      "best threshold:  0.4\n",
      "\n",
      "  Average training loss: 0.008\n",
      "  Training epoch took: 0:00:52\n",
      "\n",
      "Running Test...\n",
      "F1-score:  0.1529581239232634\n",
      "  Test Loss: 0.010\n",
      "  Test took: 0:00:56\n",
      "\n",
      "======== Epoch 5 / 20 ========\n",
      "Training...\n",
      "  Batch    10  of    122.    Elapsed: 0:00:04.\n",
      "  Batch    20  of    122.    Elapsed: 0:00:09.\n",
      "  Batch    30  of    122.    Elapsed: 0:00:13.\n",
      "  Batch    40  of    122.    Elapsed: 0:00:17.\n",
      "  Batch    50  of    122.    Elapsed: 0:00:22.\n",
      "  Batch    60  of    122.    Elapsed: 0:00:26.\n",
      "  Batch    70  of    122.    Elapsed: 0:00:30.\n",
      "  Batch    80  of    122.    Elapsed: 0:00:35.\n",
      "  Batch    90  of    122.    Elapsed: 0:00:39.\n",
      "  Batch   100  of    122.    Elapsed: 0:00:43.\n",
      "  Batch   110  of    122.    Elapsed: 0:00:48.\n",
      "  Batch   120  of    122.    Elapsed: 0:00:52.\n",
      "best threshold:  0.4\n",
      "\n",
      "  Average training loss: 0.009\n",
      "  Training epoch took: 0:00:52\n",
      "\n",
      "Running Test...\n",
      "F1-score:  0.049365309882877635\n",
      "  Test Loss: 0.011\n",
      "  Test took: 0:00:56\n",
      "\n",
      "======== Epoch 6 / 20 ========\n",
      "Training...\n",
      "  Batch    10  of    122.    Elapsed: 0:00:04.\n",
      "  Batch    20  of    122.    Elapsed: 0:00:09.\n",
      "  Batch    30  of    122.    Elapsed: 0:00:13.\n",
      "  Batch    40  of    122.    Elapsed: 0:00:17.\n",
      "  Batch    50  of    122.    Elapsed: 0:00:22.\n",
      "  Batch    60  of    122.    Elapsed: 0:00:26.\n",
      "  Batch    70  of    122.    Elapsed: 0:00:30.\n",
      "  Batch    80  of    122.    Elapsed: 0:00:35.\n",
      "  Batch    90  of    122.    Elapsed: 0:00:39.\n",
      "  Batch   100  of    122.    Elapsed: 0:00:43.\n",
      "  Batch   110  of    122.    Elapsed: 0:00:48.\n",
      "  Batch   120  of    122.    Elapsed: 0:00:52.\n",
      "best threshold:  0.30000000000000004\n",
      "\n",
      "  Average training loss: 0.009\n",
      "  Training epoch took: 0:00:53\n",
      "\n",
      "Running Test...\n",
      "F1-score:  0.0809937990217637\n",
      "  Test Loss: 0.011\n",
      "  Test took: 0:00:56\n",
      "\n",
      "======== Epoch 7 / 20 ========\n",
      "Training...\n",
      "  Batch    10  of    122.    Elapsed: 0:00:04.\n",
      "  Batch    20  of    122.    Elapsed: 0:00:09.\n",
      "  Batch    30  of    122.    Elapsed: 0:00:13.\n",
      "  Batch    40  of    122.    Elapsed: 0:00:17.\n",
      "  Batch    50  of    122.    Elapsed: 0:00:22.\n",
      "  Batch    60  of    122.    Elapsed: 0:00:26.\n",
      "  Batch    70  of    122.    Elapsed: 0:00:31.\n",
      "  Batch    80  of    122.    Elapsed: 0:00:35.\n",
      "  Batch    90  of    122.    Elapsed: 0:00:39.\n",
      "  Batch   100  of    122.    Elapsed: 0:00:44.\n",
      "  Batch   110  of    122.    Elapsed: 0:00:48.\n",
      "  Batch   120  of    122.    Elapsed: 0:00:52.\n",
      "best threshold:  0.2\n",
      "\n",
      "  Average training loss: 0.009\n",
      "  Training epoch took: 0:00:53\n",
      "\n",
      "Running Test...\n",
      "F1-score:  0.08971070079860544\n",
      "  Test Loss: 0.011\n",
      "  Test took: 0:00:56\n"
     ]
    }
   ],
   "source": [
    "training_stats = []\n",
    "\n",
    "total_t0 = time.time()\n",
    "\n",
    "model_vars = [i for i in model.parameters()]\n",
    "optimizer =  torch.optim.AdamW(model_vars, lr= learning_rate)\n",
    "\n",
    "\n",
    "\n",
    "if apply_scheduler:\n",
    "    num_train_steps = int(len(train_dataloader) * num_train_epochs)\n",
    "    num_warmup_steps = int(num_train_steps * warmup_proportion)\n",
    "\n",
    "    scheduler = get_constant_schedule_with_warmup(optimizer, \n",
    "                                           num_warmup_steps = num_warmup_steps)\n",
    "\n",
    "\n",
    "#lembrando que a função sigmoid é um \"s\" com o \"meio\" em x=0 y=0.5\n",
    "threshold = 0.5 \n",
    "#loss_func = torch.nn.BCELoss()\n",
    "#loss_func = f1_differentiable_loss\n",
    "#loss_func = focal_binary_cross_entropy\n",
    "#loss_func = lambda x,y: new_and_improved(x,y,gamma=3,alpha=get_inverse_class_freqs(train_df.iloc[:,1:]))\n",
    "loss_func = new_and_improved\n",
    "train_loss_func = lambda x,y,z: mixup_criterion(x,y,z,criterion=new_and_improved)\n",
    "\n",
    "sigmoid = torch.sigmoid\n",
    "best_f1 = 0\n",
    "best_epoch = 0\n",
    "best_report = {}\n",
    "best_auc = 0\n",
    "\n",
    "best_loss = np.inf\n",
    "\n",
    "for epoch_i in range(0,num_train_epochs):\n",
    "\n",
    "    print(\"\")\n",
    "    print('======== Epoch {:} / {:} ========'.format(epoch_i + 1, num_train_epochs))\n",
    "    print('Training...')\n",
    "    t0 = time.time()\n",
    "    \n",
    "    tr_loss = 0\n",
    "    \n",
    "    model.train()\n",
    "    all_probs = []\n",
    "    all_labels_ids = []\n",
    "    for step, batch in enumerate(train_dataloader):\n",
    "        if step % print_each_n_step == 0 and not step == 0:\n",
    "            # Calculate elapsed time in minutes.\n",
    "            elapsed = format_time(time.time() - t0)\n",
    "            \n",
    "            # Report progress.\n",
    "            print('  Batch {:>5,}  of  {:>5,}.    Elapsed: {:}.'.format(step, len(train_dataloader), elapsed))\n",
    "        b_input_ids = batch[0].to(device)\n",
    "        b_input_mask = batch[1].to(device)\n",
    "        b_labels = batch[2].to(device)\n",
    "        cur_batch_size = b_input_ids.shape[0]\n",
    "        \n",
    "        \n",
    "        output,labels_a,labels_b,lamb = model(b_input_ids,attention_mask = b_input_mask,labels=b_labels)\n",
    "        #output,targets_a,targets_b,lam = mixup(output.logits,b_labels)\n",
    "\n",
    "        \n",
    "        all_probs += sigmoid(output).detach().cpu()\n",
    "        all_labels_ids += b_labels.detach().cpu()\n",
    "        #loss = mixup_criterion(loss_func,sigmoid(output),targets_a,targets_b,lam)\n",
    "        loss = train_loss_func((sigmoid(output),labels_a),(sigmoid(output),labels_a),lamb)\n",
    "        \n",
    "        optimizer.zero_grad()\n",
    "        loss.backward()\n",
    "        optimizer.step()\n",
    "        \n",
    "        if apply_scheduler:\n",
    "            scheduler.step()\n",
    "        \n",
    "        tr_loss += loss.item()\n",
    "    \n",
    "    all_probs = torch.stack(all_probs).numpy()\n",
    "    all_labels_ids = torch.stack(all_labels_ids).numpy()\n",
    "    \n",
    "    threshold = find_best_threshold(all_labels_ids,all_probs)\n",
    "    print(\"best threshold: \",threshold)\n",
    "    \n",
    "    avg_train_loss = tr_loss/len(train_dataloader)\n",
    "    \n",
    "    training_time = format_time(time.time() - t0)\n",
    "\n",
    "    print(\"\")\n",
    "    print(\"  Average training loss: {0:.3f}\".format(avg_train_loss))\n",
    "    print(\"  Training epoch took: {:}\".format(training_time))\n",
    "    \n",
    "    print(\"\")\n",
    "    print(\"Running Test...\")\n",
    "    \n",
    "    model.eval()\n",
    "    total_test_loss = 0\n",
    "    all_probs = []\n",
    "    all_labels_ids = []\n",
    "    for batch in test_dataloader:\n",
    "        b_input_ids = batch[0].to(device)\n",
    "        b_input_mask = batch[1].to(device)\n",
    "        b_labels = batch[2].to(device)\n",
    "        \n",
    "        with torch.no_grad():\n",
    "            outputs = model(b_input_ids,attention_mask = b_input_mask,labels=b_labels)\n",
    "            total_test_loss += loss_func(sigmoid(outputs),b_labels)\n",
    "            preds = sigmoid(outputs)\n",
    "        all_probs += preds.detach().cpu()\n",
    "        all_labels_ids += b_labels.detach().cpu()\n",
    "    all_probs = torch.stack(all_probs).numpy()\n",
    "    all_preds = all_probs > threshold\n",
    "    all_labels_ids = torch.stack(all_labels_ids).numpy()\n",
    "    cur_report = classification_report(all_labels_ids,all_preds,target_names=target_names, zero_division=0,output_dict=True)\n",
    "    \n",
    "    cur_auc = average_precision_score(all_labels_ids,all_probs)\n",
    "    \n",
    "    if cur_auc > best_auc:\n",
    "        #só pra ter certeza\n",
    "        assert cur_auc != average_precision_score(all_labels_ids,all_probs,average='micro')\n",
    "        best_auc = cur_auc\n",
    "        best_auc_epoch = epoch_i\n",
    "        #best_probs = all_probs\n",
    "        #best_labels = all_labels_ids\n",
    "        \n",
    "        #model.save_pretrained(\"models/BERT baselines\")\n",
    "\n",
    "        \n",
    "    if cur_report['macro avg']['f1-score'] >= best_f1:\n",
    "        best_f1 = cur_report['macro avg']['f1-score']\n",
    "        best_epoch = epoch_i\n",
    "        best_report = cur_report\n",
    "\n",
    "        \n",
    "    avg_test_loss = total_test_loss / len(test_dataloader)\n",
    "    avg_test_loss = avg_test_loss.item()\n",
    "    \n",
    "    test_time = format_time(time.time() - t0)\n",
    "    print(\"F1-score: \",cur_report['macro avg']['f1-score'])\n",
    "    print(\"  Test Loss: {0:.3f}\".format(avg_test_loss))\n",
    "    print(\"  Test took: {:}\".format(test_time))\n",
    "    \n",
    "    if avg_test_loss < best_loss:\n",
    "        best_probs = all_probs\n",
    "        best_labels = all_labels_ids\n",
    "        model.model.save_pretrained(\"models/BERT baselines\")\n",
    "    \n",
    "    if stop.early_stop(avg_test_loss):\n",
    "        break\n",
    "    training_stats.append(\n",
    "        {\n",
    "            'epoch': epoch_i + 1,\n",
    "            'Training Loss': avg_train_loss,\n",
    "            'Test Loss': avg_test_loss,\n",
    "            'F1-score':cur_report['macro avg']['f1-score'],\n",
    "            'Training Time': training_time,\n",
    "            'Test Time': test_time\n",
    "        })"
   ]
  },
  {
   "cell_type": "code",
   "execution_count": 40,
   "id": "852757a4",
   "metadata": {},
   "outputs": [],
   "source": [
    "best_fine_tuning_report = best_report\n",
    "best_fine_tuning_epoch = best_epoch"
   ]
  },
  {
   "cell_type": "code",
   "execution_count": 41,
   "id": "ddc4e52a",
   "metadata": {},
   "outputs": [
    {
     "name": "stdout",
     "output_type": "stream",
     "text": [
      "BEST AUC:  0.2835841113908538\n",
      "epoch 2\n"
     ]
    }
   ],
   "source": [
    "print(\"BEST AUC: \",best_auc)\n",
    "print(\"epoch\", best_auc_epoch)"
   ]
  },
  {
   "cell_type": "code",
   "execution_count": 42,
   "id": "e5953c52",
   "metadata": {},
   "outputs": [
    {
     "data": {
      "text/plain": [
       "(848, 19)"
      ]
     },
     "execution_count": 42,
     "metadata": {},
     "output_type": "execute_result"
    }
   ],
   "source": [
    "best_probs.shape"
   ]
  },
  {
   "cell_type": "code",
   "execution_count": 43,
   "id": "67d05bbf",
   "metadata": {},
   "outputs": [
    {
     "name": "stdout",
     "output_type": "stream",
     "text": [
      "melhor f1 para  Alteração de sono   0.06666666666666667\n",
      "melhor f1 para  Alteração na eficiência/funcionalidade   0.10169491525423728\n",
      "melhor f1 para  Tristeza/Humor depressivo   0.13053613053613053\n",
      "melhor f1 para  Desamparo/Prejuízo social/Solidão   0.17659137577002051\n",
      "melhor f1 para  Suicído/Auto-extermínio   0.0967741935483871\n",
      "melhor f1 para  Preocupação/Medo /Ansiedade   0.06896551724137931\n",
      "melhor f1 para  Desesperança   0.10256410256410256\n",
      "melhor f1 para  Desvalia / Baixa autoestima   0.1149425287356322\n",
      "melhor f1 para  Fator de risco   0.25310173697270477\n",
      "melhor f1 para  Irritação / agressividade   0.10047095761381478\n",
      "melhor f1 para  Sintoma físico   0.06557377049180328\n",
      "melhor f1 para  Sentimento de culpa   0.10526315789473684\n",
      "melhor f1 para  Morte / Suicído de outro   0.07407407407407407\n",
      "melhor f1 para  Fator protetivo, cuidado em saúde e bem-estar   0.1553398058252427\n",
      "melhor f1 para  Dificuldade para decidir   0.041666666666666664\n",
      "melhor f1 para  Cansaço/Desânimo/Desencorajamento/Fadiga/Perda de energia / Lentificação   0.046189376443418015\n",
      "melhor f1 para  Sentimento de vazio   0.01895734597156398\n",
      "melhor f1 para  Alteração de peso/apetite   0.027586206896551724\n",
      "melhor f1 para  Neutro   0.725770097670924\n"
     ]
    },
    {
     "name": "stderr",
     "output_type": "stream",
     "text": [
      "/tmp/ipykernel_9566/438058958.py:5: RuntimeWarning: invalid value encountered in divide\n",
      "  f1_scores = 2*recall*precision/(recall+precision)\n",
      "/tmp/ipykernel_9566/438058958.py:5: RuntimeWarning: invalid value encountered in divide\n",
      "  f1_scores = 2*recall*precision/(recall+precision)\n",
      "/tmp/ipykernel_9566/438058958.py:5: RuntimeWarning: invalid value encountered in divide\n",
      "  f1_scores = 2*recall*precision/(recall+precision)\n",
      "/tmp/ipykernel_9566/438058958.py:5: RuntimeWarning: invalid value encountered in divide\n",
      "  f1_scores = 2*recall*precision/(recall+precision)\n",
      "/tmp/ipykernel_9566/438058958.py:5: RuntimeWarning: invalid value encountered in divide\n",
      "  f1_scores = 2*recall*precision/(recall+precision)\n",
      "/tmp/ipykernel_9566/438058958.py:5: RuntimeWarning: invalid value encountered in divide\n",
      "  f1_scores = 2*recall*precision/(recall+precision)\n",
      "/tmp/ipykernel_9566/438058958.py:5: RuntimeWarning: invalid value encountered in divide\n",
      "  f1_scores = 2*recall*precision/(recall+precision)\n",
      "/tmp/ipykernel_9566/438058958.py:5: RuntimeWarning: invalid value encountered in divide\n",
      "  f1_scores = 2*recall*precision/(recall+precision)\n",
      "/tmp/ipykernel_9566/438058958.py:5: RuntimeWarning: invalid value encountered in divide\n",
      "  f1_scores = 2*recall*precision/(recall+precision)\n",
      "/tmp/ipykernel_9566/438058958.py:5: RuntimeWarning: invalid value encountered in divide\n",
      "  f1_scores = 2*recall*precision/(recall+precision)\n",
      "/tmp/ipykernel_9566/438058958.py:5: RuntimeWarning: invalid value encountered in divide\n",
      "  f1_scores = 2*recall*precision/(recall+precision)\n",
      "/tmp/ipykernel_9566/438058958.py:5: RuntimeWarning: invalid value encountered in divide\n",
      "  f1_scores = 2*recall*precision/(recall+precision)\n",
      "/tmp/ipykernel_9566/438058958.py:5: RuntimeWarning: invalid value encountered in divide\n",
      "  f1_scores = 2*recall*precision/(recall+precision)\n",
      "/tmp/ipykernel_9566/438058958.py:5: RuntimeWarning: invalid value encountered in divide\n",
      "  f1_scores = 2*recall*precision/(recall+precision)\n",
      "/tmp/ipykernel_9566/438058958.py:5: RuntimeWarning: invalid value encountered in divide\n",
      "  f1_scores = 2*recall*precision/(recall+precision)\n",
      "/tmp/ipykernel_9566/438058958.py:5: RuntimeWarning: invalid value encountered in divide\n",
      "  f1_scores = 2*recall*precision/(recall+precision)\n",
      "/tmp/ipykernel_9566/438058958.py:5: RuntimeWarning: invalid value encountered in divide\n",
      "  f1_scores = 2*recall*precision/(recall+precision)\n"
     ]
    }
   ],
   "source": [
    "from sklearn.metrics import precision_recall_curve\n",
    "preds = []\n",
    "for i in range (best_probs.shape[1]):\n",
    "    precision,recall,thresholds = precision_recall_curve(best_labels[:,i],best_probs[:,i])\n",
    "    f1_scores = 2*recall*precision/(recall+precision)\n",
    "    cur_threshold = thresholds[np.nanargmax(f1_scores)]\n",
    "    print(\"melhor f1 para \",train_df.columns[i+1],\" \",np.nanmax(f1_scores))\n",
    "    preds.append(best_probs[:,i] >= cur_threshold)"
   ]
  },
  {
   "cell_type": "code",
   "execution_count": 44,
   "id": "b1bf7c8c",
   "metadata": {},
   "outputs": [],
   "source": [
    "best_preds = np.array(preds).T\n",
    "best_fine_tuning_report = classification_report(best_labels,best_preds,target_names=target_names, zero_division=0,output_dict=True)\n"
   ]
  },
  {
   "cell_type": "code",
   "execution_count": 45,
   "id": "65d28187",
   "metadata": {
    "scrolled": true
   },
   "outputs": [
    {
     "data": {
      "text/plain": [
       "<AxesSubplot:>"
      ]
     },
     "execution_count": 45,
     "metadata": {},
     "output_type": "execute_result"
    },
    {
     "data": {
      "image/png": "[encoded data removed]",
      "text/plain": [
       "<Figure size 1500x1000 with 2 Axes>"
      ]
     },
     "metadata": {},
     "output_type": "display_data"
    }
   ],
   "source": [
    "fig, ax = plt.subplots(figsize=(15, 10))\n",
    "sns.heatmap(pd.DataFrame(best_fine_tuning_report).iloc[:-1, :].T, annot=True)"
   ]
  },
  {
   "cell_type": "markdown",
   "id": "96af0c7d",
   "metadata": {},
   "source": [
    "# Analisando os casos de erro"
   ]
  },
  {
   "cell_type": "markdown",
   "id": "76939f26",
   "metadata": {},
   "source": [
    "primeiro olhando o sintomas que o model erra mais. Lembre-se: o essencial é conhecer os dados!"
   ]
  },
  {
   "cell_type": "code",
   "execution_count": 46,
   "id": "e43f53f5",
   "metadata": {},
   "outputs": [],
   "source": [
    "for i,symptom in enumerate(target_names):\n",
    "    new = []\n",
    "    for j,text in enumerate(test_df.text):\n",
    "        row = {\"text\":text,\"predicted\":preds[i][j],\"label\":best_labels[j][i]}\n",
    "        new.append(row)\n",
    "    new = pd.DataFrame(new)\n",
    "    new.to_csv(f\"error analysis/baselines/{symptom.replace('/',' ')}.csv\")\n",
    "        \n",
    "        \n"
   ]
  },
  {
   "cell_type": "markdown",
   "id": "77a307ea",
   "metadata": {},
   "source": [
    "# checando o cleanlab"
   ]
  },
  {
   "cell_type": "code",
   "execution_count": 47,
   "id": "0968285b",
   "metadata": {},
   "outputs": [],
   "source": [
    "lbs= []\n",
    "for instance in best_labels:\n",
    "    clss = []\n",
    "    for i,cls in enumerate(instance):\n",
    "        if cls == 1:\n",
    "            clss.append(i)\n",
    "    lbs.append(clss)"
   ]
  },
  {
   "cell_type": "code",
   "execution_count": 48,
   "id": "d0f361e8",
   "metadata": {},
   "outputs": [
    {
     "ename": "ModuleNotFoundError",
     "evalue": "No module named 'cleanlab'",
     "output_type": "error",
     "traceback": [
      "\u001b[0;31m---------------------------------------------------------------------------\u001b[0m",
      "\u001b[0;31mModuleNotFoundError\u001b[0m                       Traceback (most recent call last)",
      "Input \u001b[0;32mIn [48]\u001b[0m, in \u001b[0;36m<cell line: 1>\u001b[0;34m()\u001b[0m\n\u001b[0;32m----> 1\u001b[0m \u001b[38;5;28;01mfrom\u001b[39;00m \u001b[38;5;21;01mcleanlab\u001b[39;00m\u001b[38;5;21;01m.\u001b[39;00m\u001b[38;5;21;01mcount\u001b[39;00m \u001b[38;5;28;01mimport\u001b[39;00m estimate_joint\n\u001b[1;32m      3\u001b[0m estimate_joint( labels\u001b[38;5;241m=\u001b[39mlbs,\n\u001b[1;32m      4\u001b[0m             pred_probs\u001b[38;5;241m=\u001b[39mbest_probs,\n\u001b[1;32m      5\u001b[0m             confident_joint\u001b[38;5;241m=\u001b[39m\u001b[38;5;28;01mNone\u001b[39;00m,\n\u001b[1;32m      6\u001b[0m             multi_label\u001b[38;5;241m=\u001b[39m\u001b[38;5;28;01mTrue\u001b[39;00m)\u001b[38;5;241m.\u001b[39mdiagonal()\n",
      "\u001b[0;31mModuleNotFoundError\u001b[0m: No module named 'cleanlab'"
     ]
    }
   ],
   "source": [
    "from cleanlab.count import estimate_joint\n",
    "\n",
    "estimate_joint( labels=lbs,\n",
    "            pred_probs=best_probs,\n",
    "            confident_joint=None,\n",
    "            multi_label=True).diagonal()"
   ]
  },
  {
   "cell_type": "code",
   "execution_count": null,
   "id": "05abe21e",
   "metadata": {},
   "outputs": [],
   "source": [
    "from cleanlab.filter import find_label_issues\n",
    "\n",
    "find_label_issues(\n",
    "    labels=lbs,\n",
    "    pred_probs=best_probs,\n",
    "    multi_label=True,\n",
    "    return_indices_ranked_by=\"self_confidence\",\n",
    ")"
   ]
  },
  {
   "cell_type": "code",
   "execution_count": null,
   "id": "edd4b4e2",
   "metadata": {},
   "outputs": [],
   "source": [
    "from cleanlab.dataset import health_summary\n",
    "#isso não funfa por algum motivo... mandar issue no github depois\n",
    "#health_summary(lbs,best_probs,class_names=target_names,multi_label=True)"
   ]
  },
  {
   "cell_type": "code",
   "execution_count": null,
   "id": "6f8f0742",
   "metadata": {},
   "outputs": [],
   "source": [
    "lbs"
   ]
  },
  {
   "cell_type": "code",
   "execution_count": null,
   "id": "c80877e5",
   "metadata": {},
   "outputs": [],
   "source": [
    "from cleanlab.multilabel_classification import get_label_quality_scores\n",
    "idx = (get_label_quality_scores(lbs, best_probs) < 0.25).nonzero()"
   ]
  },
  {
   "cell_type": "code",
   "execution_count": null,
   "id": "be324d7c",
   "metadata": {},
   "outputs": [],
   "source": [
    "best_labels.sum(axis=0)"
   ]
  },
  {
   "cell_type": "code",
   "execution_count": null,
   "id": "286e5016",
   "metadata": {},
   "outputs": [],
   "source": [
    "best_labels[idx].sum(axis=0)"
   ]
  },
  {
   "cell_type": "code",
   "execution_count": null,
   "id": "7b8462ee",
   "metadata": {},
   "outputs": [],
   "source": [
    "#new = pd.read_csv(\"data/segredos_sentenças_multitask_test_clean.csv\",index_col=0)\n",
    "#new = new.drop(idx[0])\n",
    "#new.to_csv(\"data/segredos_sentenças_multitask_test_clean_dropped.csv\")"
   ]
  },
  {
   "cell_type": "code",
   "execution_count": null,
   "id": "5e5de2c3",
   "metadata": {},
   "outputs": [],
   "source": [
    "#from cleanlab.dataset import find_overlapping_classes\n",
    "\n",
    "#find_overlapping_classes(\n",
    "#    labels=lbs,pred_probs=best_probs,\n",
    "#    class_names=target_names,multi_label=True\n",
    "#)"
   ]
  }
 ],
 "metadata": {
  "kernelspec": {
   "display_name": "ganbert",
   "language": "python",
   "name": "ganbert"
  },
  "language_info": {
   "codemirror_mode": {
    "name": "ipython",
    "version": 3
   },
   "file_extension": ".py",
   "mimetype": "text/x-python",
   "name": "python",
   "nbconvert_exporter": "python",
   "pygments_lexer": "ipython3",
   "version": "3.10.8"
  }
 },
 "nbformat": 4,
 "nbformat_minor": 5
}
