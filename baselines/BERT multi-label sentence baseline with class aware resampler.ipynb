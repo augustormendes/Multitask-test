{
 "cells": [
  {
   "cell_type": "markdown",
   "id": "5b7ebdea",
   "metadata": {},
   "source": [
    "Fazendo baselines zero-shot/few-shot com o BERTimbau para ver se o GANBERT tem o efeito desejado"
   ]
  },
  {
   "cell_type": "code",
   "execution_count": 1,
   "id": "1cee16ef",
   "metadata": {},
   "outputs": [],
   "source": [
    "#pra conseguir algum erro util da porra do torch\n",
    "import os\n",
    "os.environ['CUDA_LAUNCH_BLOCKING'] = \"1\""
   ]
  },
  {
   "cell_type": "code",
   "execution_count": 2,
   "id": "1f0ce477",
   "metadata": {},
   "outputs": [],
   "source": [
    "import pandas as pd\n",
    "import numpy as np\n",
    "import seaborn as sns\n",
    "import matplotlib.pyplot as plt\n",
    "\n",
    "from transformers import pipeline, AutoTokenizer, BertForSequenceClassification\n",
    "from sklearn.model_selection import train_test_split\n",
    "from sklearn.metrics import classification_report, roc_auc_score, roc_curve, average_precision_score,f1_score\n",
    "from tqdm import tqdm\n",
    "import random\n",
    "import torch\n",
    "import time\n",
    "import datetime\n",
    "from skmultilearn.skmultilearn.model_selection.iterative_stratification import iterative_train_test_split\n",
    "from sklearn.utils.class_weight import compute_class_weight\n",
    "\n",
    "\n",
    "tqdm.pandas()"
   ]
  },
  {
   "cell_type": "code",
   "execution_count": 3,
   "id": "0bf697ed",
   "metadata": {},
   "outputs": [],
   "source": [
    "seed_val = 2023\n",
    "random.seed(seed_val)\n",
    "np.random.seed(seed_val)\n",
    "torch.manual_seed(seed_val)\n",
    "if torch.cuda.is_available():\n",
    "  torch.cuda.manual_seed_all(seed_val)\n",
    "  device = 0"
   ]
  },
  {
   "cell_type": "code",
   "execution_count": 4,
   "id": "dfad0287",
   "metadata": {},
   "outputs": [],
   "source": [
    "class EarlyStopper:\n",
    "    def __init__(self, patience=4, min_delta=0,is_loss=True):\n",
    "        self.patience = patience\n",
    "        self.min_delta = min_delta\n",
    "        self.counter = 0\n",
    "        self.is_loss = is_loss\n",
    "        if is_loss:\n",
    "            self.min_validation_loss = np.inf\n",
    "        else:\n",
    "            self.min_validation_loss = -np.inf\n",
    "\n",
    "    def early_stop(self, validation_loss):\n",
    "        if self.is_loss:\n",
    "            if validation_loss < self.min_validation_loss:\n",
    "                self.min_validation_loss = validation_loss\n",
    "                self.counter = 0\n",
    "                print(\"NEW LOWEST LOSS \",self.min_validation_loss)\n",
    "            elif validation_loss >= (self.min_validation_loss + self.min_delta):\n",
    "                self.counter += 1\n",
    "                if self.counter >= self.patience:\n",
    "                    return True\n",
    "            return False\n",
    "        \n",
    "        else:\n",
    "            if validation_loss > self.min_validation_loss:\n",
    "                self.min_validation_loss = validation_loss\n",
    "                self.counter = 0\n",
    "                print(\"NEW HIGHEST SCORE \",self.min_validation_loss)\n",
    "            elif validation_loss <= (self.min_validation_loss + self.min_delta):\n",
    "                self.counter += 1\n",
    "                if self.counter >= self.patience:\n",
    "                    return True\n",
    "            return False"
   ]
  },
  {
   "cell_type": "code",
   "execution_count": 5,
   "id": "de6156d2",
   "metadata": {},
   "outputs": [],
   "source": [
    "stop = EarlyStopper(is_loss=True)"
   ]
  },
  {
   "cell_type": "code",
   "execution_count": 6,
   "id": "70ddac2e",
   "metadata": {},
   "outputs": [],
   "source": [
    "def format_time(elapsed):\n",
    "    '''\n",
    "    Takes a time in seconds and returns a string hh:mm:ss\n",
    "    '''\n",
    "    # Round to the nearest second.\n",
    "    elapsed_rounded = int(round((elapsed)))\n",
    "    # Format as hh:mm:ss\n",
    "    return str(datetime.timedelta(seconds=elapsed_rounded))"
   ]
  },
  {
   "cell_type": "code",
   "execution_count": 7,
   "id": "c3a030e5",
   "metadata": {},
   "outputs": [],
   "source": [
    "device = 0 if torch.cuda.is_available() else -1\n",
    "remove_neutral_instances= False\n"
   ]
  },
  {
   "cell_type": "markdown",
   "id": "edc20282",
   "metadata": {},
   "source": [
    "# Dados"
   ]
  },
  {
   "cell_type": "code",
   "execution_count": 8,
   "id": "421dcc12",
   "metadata": {},
   "outputs": [],
   "source": [
    "df = pd.read_csv(\"data/segredos_sentenças_multitask_clean.csv\",index_col=0)\n",
    "#df['Alteração na eficiência/funcionalidade'] == 1 or df['Perda/Diminuição do prazer/ Perda/Diminuição da libido'] == 1"
   ]
  },
  {
   "cell_type": "code",
   "execution_count": 9,
   "id": "08cdacb8",
   "metadata": {},
   "outputs": [],
   "source": [
    "df = df.drop([\"Postagem com possível perfil depressivo\",\"Alteração na eficiência\",\n",
    "         \"Alteração da funcionalidade\",\"*\",'Agitação/inquietação','Sintoma obsessivo e compulsivo','Déficit de atenção/Memória',\n",
    "              'Perda/Diminuição do prazer/ Perda/Diminuição da libido'],axis=1)"
   ]
  },
  {
   "cell_type": "code",
   "execution_count": 10,
   "id": "b6301640",
   "metadata": {},
   "outputs": [],
   "source": [
    "symptom_num = df.iloc[:,1:].shape[1]\n",
    "target_names = list(df.iloc[:,1:].columns)\n"
   ]
  },
  {
   "cell_type": "code",
   "execution_count": 11,
   "id": "1bf68782",
   "metadata": {},
   "outputs": [],
   "source": [
    "if remove_neutral_instances == True:\n",
    "    df = df.reset_index(drop=True)\n",
    "    df = df[df.iloc[:,1:].sum(axis=1) != 0]\n",
    "    "
   ]
  },
  {
   "cell_type": "code",
   "execution_count": 12,
   "id": "44c228d6",
   "metadata": {},
   "outputs": [],
   "source": [
    "df = df.reset_index(drop=True)"
   ]
  },
  {
   "cell_type": "code",
   "execution_count": 13,
   "id": "8e012d7b",
   "metadata": {},
   "outputs": [],
   "source": [
    "#from skmultilearn.skmultilearn.model_selection.iterative_stratification import IterativeStratification\n",
    "#strat = IterativeStratification(n_splits=2).split(df,df.iloc[:,1:])"
   ]
  },
  {
   "cell_type": "code",
   "execution_count": 14,
   "id": "487f75bc",
   "metadata": {},
   "outputs": [],
   "source": [
    "#train_df,_,test_df, _ = iterative_train_test_split(df,df.iloc[:,1:],test_size=0.5)"
   ]
  },
  {
   "cell_type": "code",
   "execution_count": 15,
   "id": "1b149c77",
   "metadata": {},
   "outputs": [],
   "source": [
    "from iterstrat.ml_stratifiers import MultilabelStratifiedKFold\n",
    "\n",
    "strat = MultilabelStratifiedKFold(n_splits=2, shuffle=True, random_state=seed_val).split(df,df.iloc[:,1:])"
   ]
  },
  {
   "cell_type": "code",
   "execution_count": 16,
   "id": "dacfe73f",
   "metadata": {},
   "outputs": [],
   "source": [
    "for train_idx, test_idx in strat:\n",
    "\n",
    "    train_df = df.loc[train_idx]\n",
    "    test_df  = df.loc[test_idx]\n",
    "    break"
   ]
  },
  {
   "cell_type": "code",
   "execution_count": 17,
   "id": "6a8b0dcc",
   "metadata": {},
   "outputs": [],
   "source": [
    "#for train_index,test_index in iterator:\n",
    "    #print(train_index)\n",
    "    #print(test_index)\n",
    "#    train_df = df.loc[train_index]\n",
    "#    test_df = df.loc[test_index]"
   ]
  },
  {
   "cell_type": "code",
   "execution_count": 18,
   "id": "055b19f3",
   "metadata": {},
   "outputs": [],
   "source": [
    "#label_to_idx = {sintoma:i for i,sintoma in enumerate(label_list)}\n",
    "#idx_to_label = {i:sintoma for i,sintoma in enumerate(label_list)}"
   ]
  },
  {
   "cell_type": "markdown",
   "id": "1446e640",
   "metadata": {},
   "source": [
    "# Usando só as embeddings (congelando as outras camadas)"
   ]
  },
  {
   "cell_type": "code",
   "execution_count": 19,
   "id": "3db29578",
   "metadata": {},
   "outputs": [],
   "source": [
    "#dataloaders\n",
    "from class_aware_sampler import ClassAwareSampler\n",
    "max_length = 128\n",
    "\n",
    "def get_dataloader(df,tokenizer,batch_size,do_shuffle):\n",
    "    examples = []\n",
    "    input_ids = []\n",
    "    attention_masks = []\n",
    "    for text in df.text:\n",
    "        encoded = tokenizer.encode_plus(text,return_attention_mask=True,add_special_tokens=True,max_length = max_length,\n",
    "    padding=\"max_length\",truncation=True)\n",
    "        input_ids.append(encoded['input_ids'])\n",
    "        attention_masks.append(encoded['attention_mask'])\n",
    "    \n",
    "\n",
    "    input_ids = torch.tensor(input_ids)\n",
    "    attention_masks = torch.tensor(attention_masks)\n",
    "    labels = torch.tensor(df.iloc[:,1:].to_numpy(),dtype=torch.float32)\n",
    "    \n",
    "    dataset = torch.utils.data.TensorDataset(input_ids,attention_masks,labels)\n",
    "    \n",
    "    if do_shuffle:\n",
    "        sampler = ClassAwareSampler(dataset,symptom_num,labels)\n",
    "    else:\n",
    "        sampler = torch.utils.data.SequentialSampler(dataset)\n",
    "    return torch.utils.data.DataLoader(dataset,sampler = sampler,batch_size=batch_size)\n",
    "    \n",
    "       "
   ]
  },
  {
   "cell_type": "code",
   "execution_count": 20,
   "id": "863c863a",
   "metadata": {},
   "outputs": [],
   "source": [
    "model_path = \"neuralmind/bert-base-portuguese-cased\""
   ]
  },
  {
   "cell_type": "code",
   "execution_count": 21,
   "id": "baa09a10",
   "metadata": {},
   "outputs": [],
   "source": [
    "learning_rate = 5e-5\n",
    "num_train_epochs = 40\n",
    "print_each_n_step = 10\n",
    "batch_size= 16\n"
   ]
  },
  {
   "cell_type": "code",
   "execution_count": 22,
   "id": "f0ea64a2",
   "metadata": {
    "scrolled": false
   },
   "outputs": [
    {
     "name": "stderr",
     "output_type": "stream",
     "text": [
      "Some weights of the model checkpoint at neuralmind/bert-base-portuguese-cased were not used when initializing BertForSequenceClassification: ['cls.predictions.transform.LayerNorm.bias', 'cls.predictions.transform.LayerNorm.weight', 'cls.seq_relationship.bias', 'cls.seq_relationship.weight', 'cls.predictions.decoder.weight', 'cls.predictions.bias', 'cls.predictions.transform.dense.weight', 'cls.predictions.transform.dense.bias']\n",
      "- This IS expected if you are initializing BertForSequenceClassification from the checkpoint of a model trained on another task or with another architecture (e.g. initializing a BertForSequenceClassification model from a BertForPreTraining model).\n",
      "- This IS NOT expected if you are initializing BertForSequenceClassification from the checkpoint of a model that you expect to be exactly identical (initializing a BertForSequenceClassification model from a BertForSequenceClassification model).\n",
      "Some weights of BertForSequenceClassification were not initialized from the model checkpoint at neuralmind/bert-base-portuguese-cased and are newly initialized: ['classifier.bias', 'classifier.weight']\n",
      "You should probably TRAIN this model on a down-stream task to be able to use it for predictions and inference.\n"
     ]
    }
   ],
   "source": [
    "model = BertForSequenceClassification.from_pretrained(model_path,num_labels=symptom_num)\n",
    "tokenizer = AutoTokenizer.from_pretrained(model_path)"
   ]
  },
  {
   "cell_type": "code",
   "execution_count": 23,
   "id": "4f5dea70",
   "metadata": {},
   "outputs": [],
   "source": [
    "#labels = torch.tensor(train_df.iloc[:,1:].to_numpy(),dtype=torch.float32)\n",
    "#[i.item() for i in (df_labels[:,i] == 1).nonzero()])\n"
   ]
  },
  {
   "cell_type": "code",
   "execution_count": 24,
   "id": "1e2ac556",
   "metadata": {},
   "outputs": [
    {
     "name": "stdout",
     "output_type": "stream",
     "text": [
      "{0: [219, 220, 221, 869, 951, 1124, 1383, 1577, 1767, 2038, 2039, 2214], 1: [104, 192, 300, 322, 364, 488, 499, 557, 616, 678, 679, 859, 864, 935, 1275, 1523, 1540, 1561, 1633, 1678, 1680, 1721, 1729, 1751, 1755, 1769, 1793, 1795, 1803, 1893, 1956, 1989, 1995, 2044, 2067, 2088, 2168, 2303], 2: [15, 19, 55, 58, 60, 81, 93, 110, 152, 161, 175, 180, 187, 195, 196, 202, 203, 204, 244, 293, 311, 314, 318, 320, 347, 364, 373, 378, 383, 392, 398, 412, 421, 442, 444, 465, 480, 499, 512, 534, 543, 548, 554, 560, 569, 604, 605, 653, 679, 720, 723, 737, 746, 755, 756, 820, 827, 830, 858, 864, 888, 892, 895, 919, 933, 956, 986, 993, 1010, 1060, 1063, 1065, 1069, 1089, 1145, 1151, 1159, 1168, 1188, 1223, 1231, 1236, 1249, 1258, 1263, 1270, 1274, 1281, 1293, 1295, 1311, 1320, 1353, 1355, 1396, 1411, 1428, 1448, 1472, 1473, 1494, 1500, 1501, 1506, 1541, 1544, 1552, 1614, 1643, 1688, 1709, 1729, 1767, 1792, 1825, 1831, 1833, 1835, 1844, 1906, 1936, 1942, 1955, 1995, 2054, 2055, 2069, 2092, 2140, 2149, 2152, 2178, 2202, 2228, 2236, 2274, 2295, 2332, 2338], 3: [8, 19, 20, 56, 83, 110, 134, 143, 144, 170, 172, 189, 194, 195, 197, 202, 204, 245, 260, 293, 296, 297, 299, 347, 376, 377, 431, 436, 443, 460, 489, 517, 525, 554, 564, 565, 576, 593, 610, 622, 639, 745, 765, 769, 780, 784, 827, 851, 892, 894, 905, 909, 951, 1061, 1062, 1072, 1128, 1169, 1189, 1190, 1195, 1200, 1228, 1231, 1303, 1339, 1356, 1411, 1413, 1420, 1429, 1444, 1484, 1511, 1523, 1540, 1544, 1567, 1569, 1576, 1579, 1610, 1611, 1612, 1660, 1662, 1672, 1675, 1685, 1686, 1687, 1705, 1706, 1707, 1708, 1754, 1787, 1790, 1805, 1816, 1819, 1840, 1866, 1876, 1894, 1926, 1970, 1971, 2032, 2037, 2044, 2048, 2088, 2098, 2110, 2175, 2184, 2187, 2228, 2232, 2275, 2283, 2284, 2306, 2307, 2308, 2310, 2333, 2334], 4: [9, 85, 92, 160, 174, 182, 183, 201, 207, 223, 226, 263, 268, 351, 356, 357, 370, 371, 385, 398, 404, 413, 422, 425, 441, 460, 466, 480, 491, 495, 513, 534, 542, 554, 575, 595, 605, 615, 618, 621, 624, 628, 675, 702, 712, 734, 782, 783, 786, 851, 913, 926, 929, 934, 957, 994, 1028, 1088, 1111, 1341, 1387, 1394, 1441, 1475, 1491, 1494, 1506, 1547, 1548, 1549, 1559, 1567, 1571, 1578, 1633, 1647, 1648, 1664, 1696, 1742, 1756, 1759, 1782, 1789, 1790, 1794, 1798, 1799, 1875, 1910, 1914, 1932, 2027, 2051, 2056, 2085, 2097, 2108, 2159, 2162, 2171, 2175, 2178, 2267, 2269, 2297, 2299, 2309, 2325, 2327, 2330, 2338], 5: [11, 14, 15, 21, 24, 44, 104, 105, 223, 246, 389, 391, 436, 533, 538, 548, 619, 659, 678, 745, 764, 859, 866, 868, 981, 987, 1070, 1111, 1337, 1479, 1483, 1485, 1489, 1496, 1567, 1579, 1585, 1607, 1688, 1709, 1719, 1733, 1742, 1769, 1803, 1846, 1847, 1934, 1951, 2052, 2078, 2080, 2104, 2183, 2233, 2234, 2311, 2351], 6: [13, 16, 103, 132, 160, 192, 194, 230, 231, 463, 469, 480, 514, 528, 529, 559, 577, 697, 701, 754, 788, 818, 845, 871, 888, 910, 996, 997, 1025, 1042, 1229, 1414, 1420, 1447, 1472, 1562, 1601, 1608, 1646, 1755, 1758, 1776, 1891, 1895, 2028, 2036, 2141, 2225, 2227, 2280, 2296, 2334], 7: [20, 55, 87, 102, 119, 186, 188, 221, 223, 233, 241, 265, 284, 285, 288, 295, 296, 298, 372, 481, 495, 535, 607, 609, 654, 656, 658, 694, 733, 734, 751, 828, 888, 911, 1026, 1027, 1032, 1135, 1142, 1146, 1163, 1195, 1394, 1423, 1449, 1495, 1550, 1578, 1614, 1661, 1666, 1679, 1682, 1711, 1730, 1731, 1761, 1767, 1778, 1789, 1818, 1876, 1936, 1976, 1977, 1996, 2000, 2228, 2286, 2307, 2327], 8: [21, 85, 112, 145, 201, 202, 232, 245, 262, 277, 329, 332, 333, 374, 375, 379, 380, 381, 382, 436, 460, 463, 470, 522, 523, 526, 555, 556, 557, 592, 614, 616, 666, 667, 680, 683, 684, 693, 711, 733, 753, 757, 758, 759, 763, 768, 800, 808, 809, 827, 841, 847, 851, 853, 855, 865, 908, 909, 911, 923, 924, 925, 941, 942, 950, 968, 983, 985, 987, 1008, 1014, 1018, 1022, 1029, 1035, 1074, 1081, 1126, 1158, 1165, 1171, 1175, 1183, 1195, 1197, 1198, 1213, 1217, 1218, 1304, 1321, 1346, 1407, 1420, 1423, 1444, 1538, 1539, 1623, 1691, 1773, 1860, 1863, 1878, 1881, 1913, 1918, 1930, 1975, 1988, 2038, 2040, 2047, 2052, 2068, 2075, 2133, 2135, 2137, 2187, 2221, 2222, 2228, 2230, 2309, 2359], 9: [55, 175, 177, 283, 350, 441, 616, 685, 686, 687, 688, 742, 744, 836, 837, 948, 989, 990, 1000, 1001, 1046, 1050, 1066, 1083, 1086, 1087, 1095, 1096, 1097, 1098, 1170, 1196, 1323, 1343, 1473, 1500, 1583, 1585, 1663, 2031, 2311], 10: [87, 320, 517, 644, 648, 1130, 1630, 1733, 1987], 11: [49, 472, 613, 864, 873, 909, 910, 999, 1040, 1129, 1162, 1225, 1261, 1543, 1545, 1742, 1776, 1989, 2089, 2159, 2226], 12: [51, 142, 471, 743, 748, 1008, 1087, 1150, 1176, 1263, 1315, 1474, 1644, 1697, 1700, 1784, 2051, 2274], 13: [55, 56, 124, 130, 133, 193, 201, 279, 301, 302, 306, 307, 333, 335, 424, 434, 454, 472, 512, 547, 568, 604, 630, 698, 710, 715, 750, 844, 852, 870, 890, 899, 901, 914, 917, 920, 942, 955, 993, 996, 1032, 1054, 1070, 1071, 1091, 1092, 1131, 1155, 1161, 1223, 1254, 1270, 1285, 1287, 1347, 1355, 1408, 1446, 1499, 1501, 1504, 1582, 1602, 1603, 1742, 1820, 1821, 1834, 1924, 1932, 1967, 1997, 2003, 2078, 2083, 2126, 2145, 2311, 2336], 14: [88, 171, 436, 892, 996, 1542, 1667, 1886, 2107, 2201, 2291], 15: [101, 215, 221, 387, 388, 485, 486, 488, 496, 612, 669, 671, 709, 710, 845, 860, 873, 936, 988, 992, 998, 1090, 1291, 1357, 1376, 1383, 1443, 1644, 1704, 1785, 1828, 1829, 1931, 1956, 2022, 2201, 2285, 2326, 2348], 16: [199, 420, 495, 516, 643, 738, 1195, 1301, 1354, 1496, 2032, 2042, 2087, 2161], 17: [445, 824, 938, 1564, 1767, 1803, 2326]}\n",
      ">>> Class Aware Sampler Built! Class number: 18, reduce 2\n"
     ]
    }
   ],
   "source": [
    "train_dataloader = get_dataloader(train_df,tokenizer,batch_size,do_shuffle=True)\n",
    "test_dataloader = get_dataloader(test_df,tokenizer,batch_size,do_shuffle=False)"
   ]
  },
  {
   "cell_type": "code",
   "execution_count": 25,
   "id": "a6124a76",
   "metadata": {},
   "outputs": [],
   "source": [
    "seed_val = 2023\n",
    "random.seed(seed_val)\n",
    "np.random.seed(seed_val)\n",
    "torch.manual_seed(seed_val)\n",
    "if torch.cuda.is_available():\n",
    "  torch.cuda.manual_seed_all(seed_val)\n",
    "  device = 0"
   ]
  },
  {
   "cell_type": "code",
   "execution_count": 26,
   "id": "cd6c20ce",
   "metadata": {},
   "outputs": [],
   "source": [
    "model = model.to(device)"
   ]
  },
  {
   "cell_type": "code",
   "execution_count": 27,
   "id": "503fdf99",
   "metadata": {},
   "outputs": [],
   "source": [
    "#para referência https://link.springer.com/chapter/10.1007/978-3-642-38679-4_37\n",
    "#e também https://www.kaggle.com/code/rejpalcz/best-loss-function-for-f1-score-metric\n",
    "\n",
    "#por algum motivo foi pior do que otimizar por BCE...\n",
    "#ainda é bom deixar guardado aqui, vai que é útil um dia!\n",
    "def f1_differentiable_loss(sigmoid_vals,labels):\n",
    "    #em caso de precisão ou recall igual a 0\n",
    "    eps=1e-10\n",
    "    #estamos tratando das probabilidades.\n",
    "    #por exemplo, se labels é [0,1] e temos a prob [0.3,0.9]\n",
    "    #temos um true positive rate de 0 + 0.9\n",
    "    # um true negative rate de 0.7 + 0\n",
    "    # um false positive rate de 0.3\n",
    "    # e por fim um false negative rate de 0.1\n",
    "    tp = torch.sum(labels*sigmoid_vals)\n",
    "    tn = torch.sum((1-labels)*(1-sigmoid_vals))\n",
    "    fp = torch.sum((1-labels)*sigmoid_vals)\n",
    "    fn = torch.sum(labels * (1-sigmoid_vals))\n",
    "    \n",
    "    p = tp / (tp + fp) + eps\n",
    "    r = tp / (tp + fn) +eps\n",
    "    \n",
    "    f1 = 2*p*r/ (p+r) + eps\n",
    "    #queremos minimizar a perda de f1, portanto 1-f1\n",
    "    return 1-f1.mean()"
   ]
  },
  {
   "cell_type": "code",
   "execution_count": 28,
   "id": "f8b4e210",
   "metadata": {},
   "outputs": [],
   "source": [
    "#fazendo minha própria focal loss porque a focal loss do kornia não funfa. \n",
    "#Por que o cara do pytorch mentiu pra mim ;_; ??\n",
    "\n",
    "def focal_loss(inputs,target,alpha=1,gamma=2):\n",
    "    #lembrando que a focal loss é só uma CE com \"modulating factors\"[\n",
    "    base = torch.nn.BCELoss()(inputs,target)\n",
    "    prob_diffs = (target - inputs).abs()\n",
    "    loss = alpha *( (prob_diffs**gamma) * base )\n",
    "    return loss.mean()\n",
    "    \n",
    "    \n",
    "def focal_binary_cross_entropy(p, targets, gamma=4):\n",
    "    #l = logits.reshape(-1)\n",
    "    #t = targets.reshape(-1)\n",
    "    #p = torch.sigmoid(l)\n",
    "    p = torch.where(targets >= 0.5, p, 1-p)\n",
    "    logp = - torch.log(torch.clamp(p, 1e-4, 1-1e-4))\n",
    "    loss = logp*((1-p)**gamma)\n",
    "    num_label = targets.shape[1]\n",
    "    loss = num_label*loss.mean()\n",
    "    return loss"
   ]
  },
  {
   "cell_type": "code",
   "execution_count": 29,
   "id": "289f8e82",
   "metadata": {},
   "outputs": [],
   "source": [
    "#def new_and_improved(p,targets,gamma=3,alpha=0.8):\n",
    "    #bce = torch.nn.functional.binary_cross_entropy(p,targets,reduction='none')\n",
    "#    p = torch.where(targets == 1,p,1-p)\n",
    "#    alpha = targets * alpha + (1-targets) * (1 - alpha)\n",
    "#    return (alpha * (1 - p) ** gamma).mean()"
   ]
  },
  {
   "cell_type": "code",
   "execution_count": 30,
   "id": "61c790df",
   "metadata": {},
   "outputs": [],
   "source": [
    "def new_and_improved(p,targets,gamma=3,alpha=0.8):\n",
    "    bce = torch.nn.functional.binary_cross_entropy(p,targets,reduction='none')\n",
    "    p = torch.where(targets == 1,p,1-p)\n",
    "    alpha = targets * alpha + (1-targets) * (1 - alpha)\n",
    "    loss = (bce * alpha * (1 - p) ** gamma)\n",
    "    return loss.mean()"
   ]
  },
  {
   "cell_type": "code",
   "execution_count": 31,
   "id": "8eb0d6c6",
   "metadata": {},
   "outputs": [],
   "source": [
    "def find_best_threshold(true_labels, probs):\n",
    "    eps=1e-10\n",
    "    thresholds = [i*0.1 for i in range(1,10)]\n",
    "    max_score = 0\n",
    "    for threshold in thresholds:\n",
    "        cur_score = f1_score(true_labels,probs>threshold,average=\"macro\")\n",
    "        if cur_score > max_score:\n",
    "            max_score = cur_score\n",
    "            best_threshold = threshold\n",
    "    return best_threshold\n"
   ]
  },
  {
   "cell_type": "code",
   "execution_count": 32,
   "id": "eb5eb5c2",
   "metadata": {},
   "outputs": [],
   "source": [
    "def mixup(batch_ids,batch_labels,alpha=1):\n",
    "    '''Returns mixed inputs, pairs of targets, and lambda'''\n",
    "    if alpha > 0:\n",
    "        lam = np.random.beta(alpha, alpha)\n",
    "    else:\n",
    "        lam = 1\n",
    "\n",
    "    batch_size = batch_ids.size()[0]\n",
    " \n",
    "    index = torch.randperm(batch_size).cuda()\n",
    "\n",
    "    \n",
    "    mixed_x = lam * batch_ids + (1 - lam) * batch_ids[index, :]\n",
    "    #using bigger input mask\n",
    "    #mixed_masks = batch_masks | batch_masks[index,:]\n",
    "    y_a, y_b = batch_labels, batch_labels[index]\n",
    "    return mixed_x, y_a, y_b, lam"
   ]
  },
  {
   "cell_type": "code",
   "execution_count": 33,
   "id": "951e0550",
   "metadata": {},
   "outputs": [],
   "source": [
    "def mixup_criterion(criterion, pred, y_a, y_b, lam):\n",
    "    return lam * criterion(pred, y_a) + (1 - lam) * criterion(pred, y_b)"
   ]
  },
  {
   "cell_type": "code",
   "execution_count": 34,
   "id": "c7a23e59",
   "metadata": {},
   "outputs": [],
   "source": [
    "#model.dropout.p = 0.5"
   ]
  },
  {
   "cell_type": "code",
   "execution_count": 35,
   "id": "a7885ef3",
   "metadata": {},
   "outputs": [],
   "source": [
    "def get_inverse_class_freqs(data):\n",
    "    return 1 -torch.tensor(data.sum()/data.shape[0]).to(device)"
   ]
  },
  {
   "cell_type": "code",
   "execution_count": 36,
   "id": "9672d8e5",
   "metadata": {},
   "outputs": [],
   "source": [
    "class_freq = train_df.iloc[:,1:].sum().to_numpy()\n",
    "neg_class_freq = train_df.shape[0] - train_df.iloc[:,1:].sum().to_numpy()"
   ]
  },
  {
   "cell_type": "code",
   "execution_count": 37,
   "id": "8ce2456c",
   "metadata": {},
   "outputs": [],
   "source": [
    "from resample_loss import ResampleLoss\n",
    "resamp_loss = ResampleLoss(use_sigmoid=True,\n",
    "            reweight_func='rebalance',\n",
    "            focal=dict(focal=True, balance_param=2.0, gamma=2),\n",
    "            logit_reg=dict(init_bias=0.05, neg_scale=5),\n",
    "            map_param=dict(alpha=0.1, beta=10.0, gamma=0.3),loss_weight=1.0,class_freq=class_freq,neg_class_freq=neg_class_freq)"
   ]
  },
  {
   "cell_type": "code",
   "execution_count": 38,
   "id": "0dc9c73e",
   "metadata": {
    "scrolled": false
   },
   "outputs": [
    {
     "name": "stdout",
     "output_type": "stream",
     "text": [
      "\n",
      "======== Epoch 1 / 40 ========\n",
      "Training...\n",
      "  Batch    10  of     79.    Elapsed: 0:00:03.\n",
      "  Batch    20  of     79.    Elapsed: 0:00:06.\n",
      "  Batch    30  of     79.    Elapsed: 0:00:09.\n",
      "  Batch    40  of     79.    Elapsed: 0:00:12.\n",
      "  Batch    50  of     79.    Elapsed: 0:00:14.\n",
      "  Batch    60  of     79.    Elapsed: 0:00:17.\n",
      "  Batch    70  of     79.    Elapsed: 0:00:20.\n",
      "best threshold:  0.5\n",
      "\n",
      "  Average training loss: 0.016\n",
      "  Training epoch took: 0:00:22\n",
      "\n",
      "Running Test...\n",
      "F1-score:  0.22358033500064478\n",
      "  Test Loss: 0.008\n",
      "  Test took: 0:00:28\n",
      "NEW LOWEST LOSS  0.00837505143135786\n",
      "\n",
      "======== Epoch 2 / 40 ========\n",
      "Training...\n",
      "  Batch    10  of     79.    Elapsed: 0:00:03.\n",
      "  Batch    20  of     79.    Elapsed: 0:00:06.\n",
      "  Batch    30  of     79.    Elapsed: 0:00:08.\n",
      "  Batch    40  of     79.    Elapsed: 0:00:11.\n",
      "  Batch    50  of     79.    Elapsed: 0:00:14.\n",
      "  Batch    60  of     79.    Elapsed: 0:00:17.\n",
      "  Batch    70  of     79.    Elapsed: 0:00:19.\n",
      "best threshold:  0.5\n",
      "\n",
      "  Average training loss: 0.008\n",
      "  Training epoch took: 0:00:22\n",
      "\n",
      "Running Test...\n",
      "F1-score:  0.31341049564017687\n",
      "  Test Loss: 0.006\n",
      "  Test took: 0:00:28\n",
      "NEW LOWEST LOSS  0.006409665569663048\n",
      "\n",
      "======== Epoch 3 / 40 ========\n",
      "Training...\n",
      "  Batch    10  of     79.    Elapsed: 0:00:03.\n",
      "  Batch    20  of     79.    Elapsed: 0:00:06.\n",
      "  Batch    30  of     79.    Elapsed: 0:00:08.\n",
      "  Batch    40  of     79.    Elapsed: 0:00:11.\n",
      "  Batch    50  of     79.    Elapsed: 0:00:14.\n",
      "  Batch    60  of     79.    Elapsed: 0:00:17.\n",
      "  Batch    70  of     79.    Elapsed: 0:00:20.\n",
      "best threshold:  0.5\n",
      "\n",
      "  Average training loss: 0.004\n",
      "  Training epoch took: 0:00:22\n",
      "\n",
      "Running Test...\n",
      "F1-score:  0.324373036194829\n",
      "  Test Loss: 0.007\n",
      "  Test took: 0:00:28\n",
      "\n",
      "======== Epoch 4 / 40 ========\n",
      "Training...\n",
      "  Batch    10  of     79.    Elapsed: 0:00:03.\n",
      "  Batch    20  of     79.    Elapsed: 0:00:06.\n",
      "  Batch    30  of     79.    Elapsed: 0:00:08.\n",
      "  Batch    40  of     79.    Elapsed: 0:00:11.\n",
      "  Batch    50  of     79.    Elapsed: 0:00:14.\n",
      "  Batch    60  of     79.    Elapsed: 0:00:17.\n",
      "  Batch    70  of     79.    Elapsed: 0:00:20.\n",
      "best threshold:  0.5\n",
      "\n",
      "  Average training loss: 0.002\n",
      "  Training epoch took: 0:00:22\n",
      "\n",
      "Running Test...\n",
      "F1-score:  0.29163818251077767\n",
      "  Test Loss: 0.007\n",
      "  Test took: 0:00:27\n",
      "\n",
      "======== Epoch 5 / 40 ========\n",
      "Training...\n",
      "  Batch    10  of     79.    Elapsed: 0:00:03.\n",
      "  Batch    20  of     79.    Elapsed: 0:00:06.\n",
      "  Batch    30  of     79.    Elapsed: 0:00:08.\n",
      "  Batch    40  of     79.    Elapsed: 0:00:11.\n",
      "  Batch    50  of     79.    Elapsed: 0:00:14.\n",
      "  Batch    60  of     79.    Elapsed: 0:00:17.\n",
      "  Batch    70  of     79.    Elapsed: 0:00:20.\n",
      "best threshold:  0.5\n",
      "\n",
      "  Average training loss: 0.001\n",
      "  Training epoch took: 0:00:22\n",
      "\n",
      "Running Test...\n",
      "F1-score:  0.30117616497213917\n",
      "  Test Loss: 0.008\n",
      "  Test took: 0:00:28\n",
      "\n",
      "======== Epoch 6 / 40 ========\n",
      "Training...\n",
      "  Batch    10  of     79.    Elapsed: 0:00:03.\n",
      "  Batch    20  of     79.    Elapsed: 0:00:06.\n",
      "  Batch    30  of     79.    Elapsed: 0:00:08.\n",
      "  Batch    40  of     79.    Elapsed: 0:00:11.\n",
      "  Batch    50  of     79.    Elapsed: 0:00:14.\n",
      "  Batch    60  of     79.    Elapsed: 0:00:17.\n",
      "  Batch    70  of     79.    Elapsed: 0:00:20.\n",
      "best threshold:  0.5\n",
      "\n",
      "  Average training loss: 0.001\n",
      "  Training epoch took: 0:00:22\n",
      "\n",
      "Running Test...\n",
      "F1-score:  0.29721044978187167\n",
      "  Test Loss: 0.008\n",
      "  Test took: 0:00:27\n"
     ]
    }
   ],
   "source": [
    "torch.autograd.set_detect_anomaly(True)\n",
    "\n",
    "training_stats = []\n",
    "\n",
    "total_t0 = time.time()\n",
    "\n",
    "model_vars = [i for i in model.parameters()]\n",
    "optimizer =  torch.optim.AdamW(model_vars, lr= learning_rate)\n",
    "\n",
    "\n",
    "#lembrando que a função sigmoid é um \"s\" com o \"meio\" em x=0 y=0.5\n",
    "threshold = 0.5 \n",
    "#loss_func = torch.nn.BCELoss()\n",
    "#loss_func = f1_differentiable_loss\n",
    "#loss_func = focal_binary_cross_entropy\n",
    "#loss_func = lambda x,y: new_and_improved(x,y,gamma=3,alpha=get_inverse_class_freqs(train_df.iloc[:,1:]))\n",
    "loss_func = new_and_improved\n",
    "sigmoid = torch.sigmoid\n",
    "best_f1 = 0\n",
    "best_epoch = 0\n",
    "best_report = {}\n",
    "best_auc = 0\n",
    "\n",
    "\n",
    "for epoch_i in range(0,num_train_epochs):\n",
    "\n",
    "    print(\"\")\n",
    "    print('======== Epoch {:} / {:} ========'.format(epoch_i + 1, num_train_epochs))\n",
    "    print('Training...')\n",
    "    t0 = time.time()\n",
    "    \n",
    "    tr_loss = 0\n",
    "    \n",
    "    model.train()\n",
    "    all_probs = []\n",
    "    all_labels_ids = []\n",
    "    for step, batch in enumerate(train_dataloader):\n",
    "        if step % print_each_n_step == 0 and not step == 0:\n",
    "            # Calculate elapsed time in minutes.\n",
    "            elapsed = format_time(time.time() - t0)\n",
    "            \n",
    "            # Report progress.\n",
    "            print('  Batch {:>5,}  of  {:>5,}.    Elapsed: {:}.'.format(step, len(train_dataloader), elapsed))\n",
    "        b_input_ids = batch[0].to(device)\n",
    "        b_input_mask = batch[1].to(device)\n",
    "        b_labels = batch[2].to(device)\n",
    "        cur_batch_size = b_input_ids.shape[0]\n",
    "        \n",
    "        \n",
    "        output = model(b_input_ids,attention_mask = b_input_mask)\n",
    "        #output,targets_a,targets_b,lam = mixup(output.logits,b_labels)\n",
    "\n",
    "        \n",
    "        all_probs += sigmoid(output.logits).detach().cpu()\n",
    "        all_labels_ids += b_labels.detach().cpu()\n",
    "        #loss = mixup_criterion(loss_func,sigmoid(output),targets_a,targets_b,lam)\n",
    "        loss = loss_func(sigmoid(output.logits),b_labels)\n",
    "        \n",
    "        optimizer.zero_grad()\n",
    "        loss.backward()\n",
    "        optimizer.step()\n",
    "        \n",
    "        tr_loss += loss.item()\n",
    "    \n",
    "    all_probs = torch.stack(all_probs).numpy()\n",
    "    all_labels_ids = torch.stack(all_labels_ids).numpy()\n",
    "    \n",
    "    threshold = find_best_threshold(all_labels_ids,all_probs)\n",
    "    print(\"best threshold: \",threshold)\n",
    "    \n",
    "    avg_train_loss = tr_loss/len(train_dataloader)\n",
    "    \n",
    "    training_time = format_time(time.time() - t0)\n",
    "\n",
    "    print(\"\")\n",
    "    print(\"  Average training loss: {0:.3f}\".format(avg_train_loss))\n",
    "    print(\"  Training epoch took: {:}\".format(training_time))\n",
    "    \n",
    "    print(\"\")\n",
    "    print(\"Running Test...\")\n",
    "    \n",
    "    model.eval()\n",
    "    total_test_loss = 0\n",
    "    all_probs = []\n",
    "    all_labels_ids = []\n",
    "    for batch in test_dataloader:\n",
    "        b_input_ids = batch[0].to(device)\n",
    "        b_input_mask = batch[1].to(device)\n",
    "        b_labels = batch[2].to(device)\n",
    "        \n",
    "        with torch.no_grad():\n",
    "            outputs = model(b_input_ids,attention_mask = b_input_mask)\n",
    "            total_test_loss += new_and_improved(sigmoid(outputs.logits),b_labels)\n",
    "            preds = sigmoid(outputs.logits)\n",
    "        all_probs += preds.detach().cpu()\n",
    "        all_labels_ids += b_labels.detach().cpu()\n",
    "    all_probs = torch.stack(all_probs).numpy()\n",
    "    all_preds = all_probs > threshold\n",
    "    all_labels_ids = torch.stack(all_labels_ids).numpy()\n",
    "    cur_report = classification_report(all_labels_ids,all_preds,target_names=target_names, zero_division=0,output_dict=True)\n",
    "    \n",
    "    cur_auc = average_precision_score(all_labels_ids,all_probs)\n",
    "    \n",
    "    if cur_auc > best_auc:\n",
    "        #só pra ter certeza\n",
    "        assert cur_auc != average_precision_score(all_labels_ids,all_probs,average='micro')\n",
    "        best_auc = cur_auc\n",
    "        best_auc_epoch = epoch_i\n",
    "        best_probs = all_probs\n",
    "        best_labels = all_labels_ids\n",
    "        \n",
    "        \n",
    "        model.save_pretrained(\"models/BERT baselines\")\n",
    "\n",
    "        \n",
    "    if cur_report['macro avg']['f1-score'] >= best_f1:\n",
    "        best_f1 = cur_report['macro avg']['f1-score']\n",
    "        best_epoch = epoch_i\n",
    "        best_report = cur_report\n",
    "\n",
    "        \n",
    "    avg_test_loss = total_test_loss / len(test_dataloader)\n",
    "    avg_test_loss = avg_test_loss.item()\n",
    "    \n",
    "    test_time = format_time(time.time() - t0)\n",
    "    print(\"F1-score: \",cur_report['macro avg']['f1-score'])\n",
    "    print(\"  Test Loss: {0:.3f}\".format(avg_test_loss))\n",
    "    print(\"  Test took: {:}\".format(test_time))\n",
    "    if stop.early_stop(avg_test_loss):\n",
    "        break\n",
    "    training_stats.append(\n",
    "        {\n",
    "            'epoch': epoch_i + 1,\n",
    "            'Training Loss': avg_train_loss,\n",
    "            'Test Loss': avg_test_loss,\n",
    "            'F1-score':cur_report['macro avg']['f1-score'],\n",
    "            'Training Time': training_time,\n",
    "            'Test Time': test_time\n",
    "        })"
   ]
  },
  {
   "cell_type": "code",
   "execution_count": 39,
   "id": "852757a4",
   "metadata": {},
   "outputs": [],
   "source": [
    "best_fine_tuning_report = best_report\n",
    "best_fine_tuning_epoch = best_epoch"
   ]
  },
  {
   "cell_type": "code",
   "execution_count": 40,
   "id": "ddc4e52a",
   "metadata": {},
   "outputs": [
    {
     "name": "stdout",
     "output_type": "stream",
     "text": [
      "BEST AUC:  0.3120474941874422\n",
      "epoch 4\n"
     ]
    }
   ],
   "source": [
    "print(\"BEST AUC: \",best_auc)\n",
    "print(\"epoch\", best_auc_epoch)"
   ]
  },
  {
   "cell_type": "code",
   "execution_count": 41,
   "id": "e5953c52",
   "metadata": {},
   "outputs": [
    {
     "data": {
      "text/plain": [
       "(2361, 18)"
      ]
     },
     "execution_count": 41,
     "metadata": {},
     "output_type": "execute_result"
    }
   ],
   "source": [
    "best_probs.shape"
   ]
  },
  {
   "cell_type": "code",
   "execution_count": 42,
   "id": "67d05bbf",
   "metadata": {},
   "outputs": [
    {
     "name": "stdout",
     "output_type": "stream",
     "text": [
      "melhor f1 para  Alteração de sono   0.5833333333333334\n",
      "melhor f1 para  Alteração na eficiência/funcionalidade   0.25\n",
      "melhor f1 para  Tristeza/Humor depressivo   0.4186046511627907\n",
      "melhor f1 para  Desamparo/Prejuízo social/Solidão   0.47908745247148293\n",
      "melhor f1 para  Suicído/Auto-extermínio   0.6693877551020407\n",
      "melhor f1 para  Preocupação/Medo /Ansiedade   0.6259541984732825\n",
      "melhor f1 para  Desesperança   0.1914893617021277\n",
      "melhor f1 para  Desvalia / Baixa autoestima   0.47933884297520657\n",
      "melhor f1 para  Fator de risco   0.27906976744186046\n",
      "melhor f1 para  Irritação / agressividade   0.21311475409836067\n",
      "melhor f1 para  Sintoma físico   0.3333333333333333\n",
      "melhor f1 para  Sentimento de culpa   0.26666666666666666\n",
      "melhor f1 para  Morte / Suicído de outro   0.4800000000000001\n",
      "melhor f1 para  Fator protetivo, cuidado em saúde e bem-estar   0.3823529411764706\n",
      "melhor f1 para  Dificuldade para decidir   0.19354838709677416\n",
      "melhor f1 para  Cansaço/Desânimo/Desencorajamento/Fadiga/Perda de energia / Lentificação   0.4383561643835617\n",
      "melhor f1 para  Sentimento de vazio   0.32\n",
      "melhor f1 para  Alteração de peso/apetite   0.6\n"
     ]
    },
    {
     "name": "stderr",
     "output_type": "stream",
     "text": [
      "/tmp/ipykernel_367055/438058958.py:5: RuntimeWarning: invalid value encountered in divide\n",
      "  f1_scores = 2*recall*precision/(recall+precision)\n",
      "/tmp/ipykernel_367055/438058958.py:5: RuntimeWarning: invalid value encountered in divide\n",
      "  f1_scores = 2*recall*precision/(recall+precision)\n",
      "/tmp/ipykernel_367055/438058958.py:5: RuntimeWarning: invalid value encountered in divide\n",
      "  f1_scores = 2*recall*precision/(recall+precision)\n",
      "/tmp/ipykernel_367055/438058958.py:5: RuntimeWarning: invalid value encountered in divide\n",
      "  f1_scores = 2*recall*precision/(recall+precision)\n",
      "/tmp/ipykernel_367055/438058958.py:5: RuntimeWarning: invalid value encountered in divide\n",
      "  f1_scores = 2*recall*precision/(recall+precision)\n",
      "/tmp/ipykernel_367055/438058958.py:5: RuntimeWarning: invalid value encountered in divide\n",
      "  f1_scores = 2*recall*precision/(recall+precision)\n",
      "/tmp/ipykernel_367055/438058958.py:5: RuntimeWarning: invalid value encountered in divide\n",
      "  f1_scores = 2*recall*precision/(recall+precision)\n"
     ]
    }
   ],
   "source": [
    "from sklearn.metrics import precision_recall_curve\n",
    "preds = []\n",
    "for i in range (best_probs.shape[1]):\n",
    "    precision,recall,thresholds = precision_recall_curve(best_labels[:,i],best_probs[:,i])\n",
    "    f1_scores = 2*recall*precision/(recall+precision)\n",
    "    cur_threshold = thresholds[np.nanargmax(f1_scores)]\n",
    "    print(\"melhor f1 para \",train_df.columns[i+1],\" \",np.nanmax(f1_scores))\n",
    "    preds.append(best_probs[:,i] >= cur_threshold)"
   ]
  },
  {
   "cell_type": "code",
   "execution_count": 43,
   "id": "b1bf7c8c",
   "metadata": {},
   "outputs": [],
   "source": [
    "best_preds = np.array(preds).T\n",
    "best_fine_tuning_report = classification_report(best_labels,best_preds,target_names=target_names, zero_division=0,output_dict=True)\n"
   ]
  },
  {
   "cell_type": "code",
   "execution_count": 44,
   "id": "65d28187",
   "metadata": {
    "scrolled": true
   },
   "outputs": [
    {
     "data": {
      "text/plain": [
       "<AxesSubplot:>"
      ]
     },
     "execution_count": 44,
     "metadata": {},
     "output_type": "execute_result"
    },
    {
     "data": {
      "image/png": "[encoded data removed]",
      "text/plain": [
       "<Figure size 1500x1000 with 2 Axes>"
      ]
     },
     "metadata": {},
     "output_type": "display_data"
    }
   ],
   "source": [
    "fig, ax = plt.subplots(figsize=(15, 10))\n",
    "sns.heatmap(pd.DataFrame(best_fine_tuning_report).iloc[:-1, :].T, annot=True)"
   ]
  },
  {
   "cell_type": "markdown",
   "id": "96af0c7d",
   "metadata": {},
   "source": [
    "# Analisando os casos de erro"
   ]
  },
  {
   "cell_type": "markdown",
   "id": "76939f26",
   "metadata": {},
   "source": [
    "primeiro olhando o sintomas que o model erra mais. Lembre-se: o essencial é conhecer os dados!"
   ]
  },
  {
   "cell_type": "code",
   "execution_count": 45,
   "id": "e43f53f5",
   "metadata": {},
   "outputs": [],
   "source": [
    "for i,symptom in enumerate(target_names):\n",
    "    new = []\n",
    "    for j,text in enumerate(test_df.text):\n",
    "        row = {\"text\":text,\"predicted\":preds[i][j],\"label\":best_labels[j][i]}\n",
    "        new.append(row)\n",
    "    new = pd.DataFrame(new)\n",
    "    new.to_csv(f\"error analysis/baselines/{symptom.replace('/',' ')}.csv\")\n",
    "        \n",
    "        \n"
   ]
  }
 ],
 "metadata": {
  "kernelspec": {
   "display_name": "Python 3 (ipykernel)",
   "language": "python",
   "name": "python3"
  },
  "language_info": {
   "codemirror_mode": {
    "name": "ipython",
    "version": 3
   },
   "file_extension": ".py",
   "mimetype": "text/x-python",
   "name": "python",
   "nbconvert_exporter": "python",
   "pygments_lexer": "ipython3",
   "version": "3.9.15"
  }
 },
 "nbformat": 4,
 "nbformat_minor": 5
}
