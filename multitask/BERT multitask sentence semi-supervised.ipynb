{
 "cells": [
  {
   "cell_type": "markdown",
   "id": "c082ec10",
   "metadata": {},
   "source": [
    "Dessa vez sem os componentes da GAN, que não parecem estar dando certo. Tentando apenas usar multitask de emoções com KD."
   ]
  },
  {
   "cell_type": "markdown",
   "id": "4d5ce865",
   "metadata": {},
   "source": [
    "# Somente dados rotulados"
   ]
  },
  {
   "cell_type": "code",
   "execution_count": 1,
   "id": "b5fe04b3",
   "metadata": {},
   "outputs": [],
   "source": [
    "import pandas as pd\n",
    "import numpy as np\n",
    "import seaborn as sns\n",
    "import matplotlib.pyplot as plt\n",
    "\n",
    "from transformers import pipeline, AutoTokenizer, AutoModel,AutoConfig,get_constant_schedule_with_warmup, BertForSequenceClassification, BertTokenizer\n",
    "from sklearn.model_selection import train_test_split\n",
    "from sklearn.metrics import classification_report, roc_auc_score,f1_score\n",
    "from tqdm import tqdm\n",
    "from torch.utils.data import TensorDataset, DataLoader, SequentialSampler, RandomSampler\n",
    "\n",
    "import torch\n",
    "from torch import nn\n",
    "import time\n",
    "import random\n",
    "import datetime\n",
    "import math\n",
    "\n",
    "#TODO: ver de fazer o pull request pra ver se o cara arruma essa porcaria de função, ao invés dessa gambiarra\n",
    "from skmultilearn.skmultilearn.model_selection.iterative_stratification import iterative_train_test_split\n",
    "from sklearn.utils.class_weight import compute_class_weight\n",
    "from sklearn.model_selection import train_test_split\n",
    "\n",
    "\n",
    "tqdm.pandas()"
   ]
  },
  {
   "cell_type": "code",
   "execution_count": 2,
   "id": "8310d89f",
   "metadata": {},
   "outputs": [],
   "source": [
    "seed_val = 42\n",
    "random.seed(seed_val)\n",
    "np.random.seed(seed_val)\n",
    "torch.manual_seed(seed_val)\n",
    "if torch.cuda.is_available():\n",
    "  torch.cuda.manual_seed_all(seed_val)\n",
    "  device = 0"
   ]
  },
  {
   "cell_type": "code",
   "execution_count": 3,
   "id": "e51d2066",
   "metadata": {},
   "outputs": [
    {
     "data": {
      "text/plain": [
       "True"
      ]
     },
     "execution_count": 3,
     "metadata": {},
     "output_type": "execute_result"
    }
   ],
   "source": [
    "torch.cuda.is_available()"
   ]
  },
  {
   "cell_type": "code",
   "execution_count": 4,
   "id": "316e921d",
   "metadata": {},
   "outputs": [],
   "source": [
    "class EarlyStopper:\n",
    "    def __init__(self, patience=4, min_delta=0,is_loss=True):\n",
    "        self.patience = patience\n",
    "        self.min_delta = min_delta\n",
    "        self.counter = 0\n",
    "        self.is_loss = is_loss\n",
    "        if is_loss:\n",
    "            self.min_validation_loss = np.inf\n",
    "        else:\n",
    "            self.min_validation_loss = -np.inf\n",
    "\n",
    "    def early_stop(self, validation_loss):\n",
    "        if self.is_loss:\n",
    "            if validation_loss < self.min_validation_loss:\n",
    "                self.min_validation_loss = validation_loss\n",
    "                self.counter = 0\n",
    "                print(\"NEW LOWEST LOSS \",self.min_validation_loss)\n",
    "            elif validation_loss >= (self.min_validation_loss + self.min_delta):\n",
    "                self.counter += 1\n",
    "                if self.counter >= self.patience:\n",
    "                    return True\n",
    "            return False\n",
    "        \n",
    "        else:\n",
    "            if validation_loss > self.min_validation_loss:\n",
    "                self.min_validation_loss = validation_loss\n",
    "                self.counter = 0\n",
    "                print(\"NEW HIGHEST SCORE \",self.min_validation_loss)\n",
    "            elif validation_loss <= (self.min_validation_loss + self.min_delta):\n",
    "                self.counter += 1\n",
    "                if self.counter >= self.patience:\n",
    "                    return True\n",
    "            return False"
   ]
  },
  {
   "cell_type": "code",
   "execution_count": 5,
   "id": "71bee670",
   "metadata": {},
   "outputs": [],
   "source": [
    "stop = EarlyStopper(is_loss=False)"
   ]
  },
  {
   "cell_type": "code",
   "execution_count": 6,
   "id": "770b164c",
   "metadata": {},
   "outputs": [],
   "source": [
    "def format_time(elapsed):\n",
    "    '''\n",
    "    Takes a time in seconds and returns a string hh:mm:ss\n",
    "    '''\n",
    "    # Round to the nearest second.\n",
    "    elapsed_rounded = int(round((elapsed)))\n",
    "    # Format as hh:mm:ss\n",
    "    return str(datetime.timedelta(seconds=elapsed_rounded))"
   ]
  },
  {
   "cell_type": "code",
   "execution_count": 7,
   "id": "c04643d6",
   "metadata": {},
   "outputs": [],
   "source": [
    "remove_neutral_instances= True"
   ]
  },
  {
   "cell_type": "code",
   "execution_count": 8,
   "id": "8929604a",
   "metadata": {},
   "outputs": [],
   "source": [
    "max_length = 128\n",
    "\n",
    "threshold = 0.5\n",
    "noise_size = 100\n",
    "out_dropout_rate = 0.2\n",
    "\n",
    "unlabeled_ratio = 3\n",
    "\n",
    "apply_balance = True\n",
    "\n",
    "learning_rate =  5e-5\n",
    "epsilon = 1e-8\n",
    "num_train_epochs = 30\n",
    "multi_gpu = True\n",
    "\n",
    "apply_scheduler = True\n",
    "warmup_proportion = 0.1\n",
    "\n",
    "T = 3\n",
    "\n",
    "print_each_n_step = 100\n",
    "\n",
    "batch_size = 32\n",
    "\n",
    "model_path = \"neuralmind/bert-base-portuguese-cased\"\n",
    "#model_path = \"models/go_emotions\"\n",
    "\n",
    "alpha = 0.3\n"
   ]
  },
  {
   "cell_type": "markdown",
   "id": "0377f292",
   "metadata": {},
   "source": [
    "# dados"
   ]
  },
  {
   "cell_type": "code",
   "execution_count": 9,
   "id": "421dcc12",
   "metadata": {},
   "outputs": [],
   "source": [
    "df = pd.read_csv(\"data/segredos_sentenças_multitask_clean.csv\",index_col=0)\n"
   ]
  },
  {
   "cell_type": "code",
   "execution_count": 10,
   "id": "08cdacb8",
   "metadata": {},
   "outputs": [],
   "source": [
    "df = df.drop([\"Postagem com possível perfil depressivo\",\"Alteração na eficiência\",\n",
    "         \"Alteração da funcionalidade\",\"*\",'Agitação/inquietação','Sintoma obsessivo e compulsivo','Déficit de atenção/Memória',\n",
    "              'Perda/Diminuição do prazer/ Perda/Diminuição da libido'],axis=1)"
   ]
  },
  {
   "cell_type": "code",
   "execution_count": 11,
   "id": "b6301640",
   "metadata": {},
   "outputs": [],
   "source": [
    "symptom_num = df.iloc[:,1:].shape[1]\n",
    "target_names = list(df.iloc[:,1:].columns)"
   ]
  },
  {
   "cell_type": "code",
   "execution_count": 12,
   "id": "1bf68782",
   "metadata": {},
   "outputs": [],
   "source": [
    "if remove_neutral_instances == True:\n",
    "    df = df.reset_index(drop=True)\n",
    "    df = df[df.iloc[:,1:].sum(axis=1) != 0]\n",
    "    "
   ]
  },
  {
   "cell_type": "code",
   "execution_count": 13,
   "id": "44c228d6",
   "metadata": {},
   "outputs": [],
   "source": [
    "df = df.reset_index(drop=True)"
   ]
  },
  {
   "cell_type": "code",
   "execution_count": 14,
   "id": "055b19f3",
   "metadata": {},
   "outputs": [],
   "source": [
    "#label_to_idx = {sintoma:i for i,sintoma in enumerate(label_list)}\n",
    "#idx_to_label = {i:sintoma for i,sintoma in enumerate(label_list)}"
   ]
  },
  {
   "cell_type": "code",
   "execution_count": 15,
   "id": "487f75bc",
   "metadata": {},
   "outputs": [],
   "source": [
    "train_df,_,test_df, _ = iterative_train_test_split(df,df.iloc[:,1:],test_size=0.5)"
   ]
  },
  {
   "cell_type": "code",
   "execution_count": 16,
   "id": "e471f435",
   "metadata": {},
   "outputs": [],
   "source": [
    "#unlabeled = pd.read_csv(\"data/lrec2020.csv\",sep=\";\")\n",
    "#if unlabeled_ratio:\n",
    "#    size = train_df.shape[0] * unlabeled_ratio\n",
    "#    unlabeled = unlabeled.sample(size,random_state=seed_val)"
   ]
  },
  {
   "cell_type": "code",
   "execution_count": 17,
   "id": "d3d05cbc",
   "metadata": {},
   "outputs": [],
   "source": [
    "#unlabeled.rename(columns = {'Text':'text'}, inplace = True)"
   ]
  },
  {
   "cell_type": "code",
   "execution_count": 18,
   "id": "fa844655",
   "metadata": {},
   "outputs": [],
   "source": [
    "#unlabeled = pd.read_csv(\"features/goemotions lrec2020.csv\").dropna().reset_index(drop=True)"
   ]
  },
  {
   "cell_type": "code",
   "execution_count": 19,
   "id": "4d7e0541",
   "metadata": {},
   "outputs": [],
   "source": [
    "#unlabeled = pd.read_csv(\"features/goemotions facebook+reddit_sentences.csv\")"
   ]
  },
  {
   "cell_type": "code",
   "execution_count": 20,
   "id": "c5d87435",
   "metadata": {},
   "outputs": [],
   "source": [
    "unlabeled = pd.read_csv(\"features/goemotions goemotions_train_set.csv\")\n",
    "to_keep = pd.read_csv(\"data/emotions_to_keep.csv\")\n"
   ]
  },
  {
   "cell_type": "code",
   "execution_count": 21,
   "id": "f16c1e15",
   "metadata": {},
   "outputs": [],
   "source": [
    "idx = to_keep[~to_keep['f1-score']].index\n",
    "unlabeled = unlabeled.drop(columns=unlabeled.columns[idx])"
   ]
  },
  {
   "cell_type": "code",
   "execution_count": 22,
   "id": "476d583f",
   "metadata": {},
   "outputs": [],
   "source": [
    "unlabeled = unlabeled.reset_index(drop=True)"
   ]
  },
  {
   "cell_type": "code",
   "execution_count": 23,
   "id": "d5e549bb",
   "metadata": {},
   "outputs": [],
   "source": [
    "if unlabeled_ratio:\n",
    "    size = df.shape[0] * unlabeled_ratio\n",
    "    unlabeled = unlabeled.sample(size,random_state=seed_val)\n",
    "    unlabeled = unlabeled.reset_index(drop=True)"
   ]
  },
  {
   "cell_type": "code",
   "execution_count": null,
   "id": "0b15b7ba",
   "metadata": {},
   "outputs": [],
   "source": []
  },
  {
   "cell_type": "code",
   "execution_count": 24,
   "id": "f62192ab",
   "metadata": {},
   "outputs": [],
   "source": [
    "unlabeled_train, unlabeled_test, _, _ = train_test_split(unlabeled,unlabeled,test_size=0.2,shuffle=True,random_state=42)"
   ]
  },
  {
   "cell_type": "code",
   "execution_count": 25,
   "id": "4a330d2c",
   "metadata": {},
   "outputs": [],
   "source": [
    "#batch size similar ao do baseline, mas relevando a diferença do dataset auxiliar para o primário\n",
    "\n",
    "#batch_size = batch_size * round(unlabeled_train.shape[0]/train_df.shape[0]) "
   ]
  },
  {
   "cell_type": "code",
   "execution_count": 26,
   "id": "cf66fca1",
   "metadata": {},
   "outputs": [
    {
     "data": {
      "text/plain": [
       "32"
      ]
     },
     "execution_count": 26,
     "metadata": {},
     "output_type": "execute_result"
    }
   ],
   "source": [
    "batch_size"
   ]
  },
  {
   "cell_type": "markdown",
   "id": "75e5f790",
   "metadata": {},
   "source": [
    "# modelo"
   ]
  },
  {
   "cell_type": "code",
   "execution_count": 27,
   "id": "cb939c63",
   "metadata": {},
   "outputs": [
    {
     "name": "stderr",
     "output_type": "stream",
     "text": [
      "Some weights of the model checkpoint at neuralmind/bert-base-portuguese-cased were not used when initializing BertForSequenceClassification: ['cls.predictions.transform.dense.bias', 'cls.seq_relationship.weight', 'cls.predictions.transform.LayerNorm.weight', 'cls.predictions.transform.LayerNorm.bias', 'cls.predictions.decoder.weight', 'cls.seq_relationship.bias', 'cls.predictions.bias', 'cls.predictions.transform.dense.weight']\n",
      "- This IS expected if you are initializing BertForSequenceClassification from the checkpoint of a model trained on another task or with another architecture (e.g. initializing a BertForSequenceClassification model from a BertForPreTraining model).\n",
      "- This IS NOT expected if you are initializing BertForSequenceClassification from the checkpoint of a model that you expect to be exactly identical (initializing a BertForSequenceClassification model from a BertForSequenceClassification model).\n",
      "Some weights of BertForSequenceClassification were not initialized from the model checkpoint at neuralmind/bert-base-portuguese-cased and are newly initialized: ['classifier.bias', 'classifier.weight']\n",
      "You should probably TRAIN this model on a down-stream task to be able to use it for predictions and inference.\n"
     ]
    }
   ],
   "source": [
    "transformer = BertForSequenceClassification.from_pretrained(model_path)\n",
    "tokenizer = BertTokenizer.from_pretrained(model_path)"
   ]
  },
  {
   "cell_type": "code",
   "execution_count": 28,
   "id": "ab15c693",
   "metadata": {},
   "outputs": [],
   "source": [
    "#só pra checar se o modelo tá sendo ajustado\n",
    "last_transformer_layer = list(transformer.modules())[-4]"
   ]
  },
  {
   "cell_type": "code",
   "execution_count": 29,
   "id": "6c1e6d89",
   "metadata": {},
   "outputs": [],
   "source": [
    "if model_path == \"models/go_emotions\":\n",
    "    last_layer_auxiliary = list(transformer.modules())[-1]\n",
    "else:\n",
    "    last_layer_auxiliary = None"
   ]
  },
  {
   "cell_type": "code",
   "execution_count": 30,
   "id": "6cdec9e1",
   "metadata": {},
   "outputs": [
    {
     "name": "stderr",
     "output_type": "stream",
     "text": [
      "Some weights of the model checkpoint at neuralmind/bert-base-portuguese-cased were not used when initializing BertModel: ['cls.predictions.transform.dense.bias', 'cls.seq_relationship.weight', 'cls.predictions.transform.LayerNorm.weight', 'cls.predictions.transform.LayerNorm.bias', 'cls.predictions.decoder.weight', 'cls.seq_relationship.bias', 'cls.predictions.bias', 'cls.predictions.transform.dense.weight']\n",
      "- This IS expected if you are initializing BertModel from the checkpoint of a model trained on another task or with another architecture (e.g. initializing a BertForSequenceClassification model from a BertForPreTraining model).\n",
      "- This IS NOT expected if you are initializing BertModel from the checkpoint of a model that you expect to be exactly identical (initializing a BertForSequenceClassification model from a BertForSequenceClassification model).\n"
     ]
    }
   ],
   "source": [
    "transformer = AutoModel.from_pretrained(model_path)\n",
    "tokenizer = AutoTokenizer.from_pretrained(model_path)"
   ]
  },
  {
   "cell_type": "code",
   "execution_count": 31,
   "id": "fcaef6fc",
   "metadata": {},
   "outputs": [],
   "source": [
    "class Multitask(nn.Module):\n",
    "    def __init__(self,num_primary_labels, num_auxiliary_labels,input_size=512,last_layer_auxiliary=None):\n",
    "        super(Multitask,self).__init__()\n",
    "        self.primary_head = nn.Linear(input_size,num_primary_labels)\n",
    "        if last_layer_auxiliary:\n",
    "            self.auxiliary_head = last_layer_auxiliary\n",
    "        else:\n",
    "            self.auxiliary_head = nn.Linear(input_size,num_auxiliary_labels)\n",
    "\n",
    "\n",
    "        \n",
    "        self.sigmoid = torch.sigmoid\n",
    "        \n",
    "    def forward(self,input_arr,T):\n",
    "        primary_logits = self.primary_head(input_arr)\n",
    "        auxiliary_logits = self.auxiliary_head(input_arr/T)\n",
    "        primary_probs = self.sigmoid(primary_logits)\n",
    "        \n",
    "        return primary_probs,auxiliary_logits\n"
   ]
  },
  {
   "cell_type": "code",
   "execution_count": 32,
   "id": "d9475445",
   "metadata": {},
   "outputs": [],
   "source": [
    "config = AutoConfig.from_pretrained(model_path)\n",
    "hidden_size = int(config.hidden_size)\n",
    "model = Multitask(train_df.shape[1]-1,unlabeled.shape[1]-1,input_size = hidden_size,last_layer_auxiliary=last_layer_auxiliary)"
   ]
  },
  {
   "cell_type": "code",
   "execution_count": 33,
   "id": "c6fbf741",
   "metadata": {},
   "outputs": [],
   "source": [
    "if last_layer_auxiliary:\n",
    "    last_layer_auxiliary.weight"
   ]
  },
  {
   "cell_type": "code",
   "execution_count": 34,
   "id": "4745caf0",
   "metadata": {},
   "outputs": [
    {
     "data": {
      "text/plain": [
       "Parameter containing:\n",
       "tensor([[-0.0146, -0.0266, -0.0313,  ..., -0.0028, -0.0191, -0.0162],\n",
       "        [ 0.0132, -0.0311,  0.0004,  ...,  0.0021, -0.0289,  0.0254],\n",
       "        [-0.0074, -0.0266, -0.0236,  ...,  0.0163, -0.0256, -0.0136],\n",
       "        ...,\n",
       "        [-0.0111, -0.0169,  0.0205,  ...,  0.0102, -0.0036,  0.0113],\n",
       "        [-0.0142,  0.0271,  0.0127,  ..., -0.0267,  0.0015, -0.0356],\n",
       "        [ 0.0140, -0.0183, -0.0348,  ..., -0.0003,  0.0307, -0.0046]],\n",
       "       requires_grad=True)"
      ]
     },
     "execution_count": 34,
     "metadata": {},
     "output_type": "execute_result"
    }
   ],
   "source": [
    "model.auxiliary_head.weight"
   ]
  },
  {
   "cell_type": "code",
   "execution_count": 35,
   "id": "46aa8768",
   "metadata": {},
   "outputs": [],
   "source": [
    "transformer = transformer.to(device)\n",
    "model = model.to(device)"
   ]
  },
  {
   "cell_type": "code",
   "execution_count": 36,
   "id": "9757a5e9",
   "metadata": {},
   "outputs": [],
   "source": [
    "def get_dataloader(labeled_examples,unlabeled_examples,tokenizer,primary_labels,teacher_logits,batch_size=32):\n",
    "    inputs = []\n",
    "    attention_masks = []\n",
    "    \n",
    "    for arr in [labeled_examples,unlabeled_examples]:\n",
    "        for text in arr:\n",
    "            encoding = tokenizer.encode_plus(\n",
    "            text,\n",
    "            add_special_tokens=True,\n",
    "            max_length=max_length,\n",
    "            return_token_type_ids=False,\n",
    "            padding=\"max_length\",\n",
    "            truncation=True,\n",
    "            return_attention_mask=True,\n",
    "            return_tensors='pt',\n",
    "            )\n",
    "            inputs.append(encoding['input_ids'])\n",
    "            attention_masks.append(encoding['attention_mask'])\n",
    "    \n",
    "        \n",
    "    inputs = torch.stack(inputs)\n",
    "    attention_masks = torch.stack(attention_masks)\n",
    "    \n",
    "    temp_labels = np.zeros((len(unlabeled_examples),primary_labels.shape[1]))\n",
    "    primary_labels = np.concatenate([primary_labels,temp_labels])\n",
    "    \n",
    "    primary_labels = torch.tensor(primary_labels,dtype=torch.float)\n",
    "    \n",
    "    temp_logits = np.zeros((len(labeled_examples),teacher_logits.shape[1]))\n",
    "    teacher_logits = np.concatenate([temp_logits,teacher_logits])\n",
    "    teacher_logits = torch.tensor(teacher_logits,dtype=torch.float)\n",
    "    \n",
    "    # quais são rotulados, e quais são não rotulados\n",
    "    label_mask = np.concatenate([np.ones(len(labeled_examples)),np.zeros(len(unlabeled_examples))])\n",
    "    \n",
    "    label_mask = torch.tensor(label_mask,dtype=bool)\n",
    "    \n",
    "    dataset = TensorDataset(inputs,attention_masks,primary_labels,teacher_logits,label_mask)\n",
    "    student_dataloader = DataLoader(dataset,sampler = RandomSampler(dataset),\n",
    "                        batch_size=batch_size)\n",
    "    \n",
    "    return student_dataloader"
   ]
  },
  {
   "cell_type": "code",
   "execution_count": 37,
   "id": "18d0bf86",
   "metadata": {},
   "outputs": [],
   "source": [
    "train_dataloader = get_dataloader(train_df.text,unlabeled_train.text,tokenizer,train_df.iloc[:,1:].to_numpy(),unlabeled_train.iloc[:,:-1].to_numpy(),batch_size)\n",
    "test_dataloader = get_dataloader(test_df.text,unlabeled_test.text,tokenizer,test_df.iloc[:,1:].to_numpy(),unlabeled_test.iloc[:,:-1].to_numpy(),batch_size)\n"
   ]
  },
  {
   "cell_type": "code",
   "execution_count": 38,
   "id": "10fc829b",
   "metadata": {},
   "outputs": [],
   "source": [
    "def focal_binary_cross_entropy(p, targets, gamma=4):\n",
    "    #l = logits.reshape(-1)\n",
    "    #t = targets.reshape(-1)\n",
    "    #p = torch.sigmoid(l)\n",
    "    p = torch.where(targets >= 0.5, p, 1-p)\n",
    "    logp = - torch.log(torch.clamp(p, 1e-4, 1-1e-4))\n",
    "    loss = logp*((1-p)**gamma)\n",
    "    num_label = targets.shape[1]\n",
    "    loss = num_label*loss.mean()\n",
    "    return loss"
   ]
  },
  {
   "cell_type": "code",
   "execution_count": 39,
   "id": "2f900876",
   "metadata": {},
   "outputs": [],
   "source": [
    "def new_and_improved(p,targets,gamma=3,alpha=0.8):\n",
    "    bce = torch.nn.functional.binary_cross_entropy(p,targets,reduction='none')\n",
    "    p = torch.where(targets == 1,p,1-p)\n",
    "    alpha = targets * alpha + (1-targets) * (1 - alpha)\n",
    "    return (alpha * (1 - p) ** gamma).mean()"
   ]
  },
  {
   "cell_type": "code",
   "execution_count": 40,
   "id": "c95b3203",
   "metadata": {},
   "outputs": [],
   "source": [
    "def find_best_threshold(true_labels, probs):\n",
    "    eps=1e-10\n",
    "    thresholds = [i*0.1 for i in range(1,10)]\n",
    "    max_score = 0\n",
    "    for threshold in thresholds:\n",
    "        cur_score = f1_score(true_labels,probs>threshold,average=\"macro\")\n",
    "        if cur_score > max_score:\n",
    "            max_score = cur_score\n",
    "            best_threshold = threshold\n",
    "    return best_threshold"
   ]
  },
  {
   "cell_type": "code",
   "execution_count": 41,
   "id": "80b610da",
   "metadata": {},
   "outputs": [],
   "source": [
    "#transformer = torch.compile(transformer)"
   ]
  },
  {
   "cell_type": "code",
   "execution_count": 42,
   "id": "f262e9f2",
   "metadata": {},
   "outputs": [
    {
     "name": "stdout",
     "output_type": "stream",
     "text": [
      "\n",
      "======== Epoch 1 / 30 ========\n",
      "Training...\n"
     ]
    },
    {
     "name": "stderr",
     "output_type": "stream",
     "text": [
      "/tmp/ipykernel_207359/889554439.py:66: UserWarning: Implicit dimension choice for log_softmax has been deprecated. Change the call to include dim=X as an argument.\n",
      "  student_output = torch.nn.functional.log_softmax(auxiliary_logits)\n",
      "/tmp/ipykernel_207359/889554439.py:67: UserWarning: Implicit dimension choice for softmax has been deprecated. Change the call to include dim=X as an argument.\n",
      "  teacher_output = torch.nn.functional.softmax(b_teacher_logits)\n"
     ]
    },
    {
     "name": "stdout",
     "output_type": "stream",
     "text": [
      "  Batch   100  of    145.    Elapsed: 0:00:18.\n",
      "best threshold:  0.4\n",
      "  Average training loss: 0.058\n",
      "  Average prim. training loss: 0.021\n",
      "  Average aux. training loss: 0.146\n",
      "  Training epoch took: 0:00:26\n",
      "Num unlabeled batches: 145\n",
      "Num labeled batches 144\n"
     ]
    },
    {
     "name": "stderr",
     "output_type": "stream",
     "text": [
      "/tmp/ipykernel_207359/889554439.py:157: UserWarning: Implicit dimension choice for log_softmax has been deprecated. Change the call to include dim=X as an argument.\n",
      "  student_output = torch.nn.functional.log_softmax(auxiliary_logits)\n",
      "/tmp/ipykernel_207359/889554439.py:158: UserWarning: Implicit dimension choice for softmax has been deprecated. Change the call to include dim=X as an argument.\n",
      "  teacher_output = torch.nn.functional.softmax(b_teacher_logits)\n"
     ]
    },
    {
     "name": "stdout",
     "output_type": "stream",
     "text": [
      "F1-score:  0.18538781454878825\n",
      "  Test Loss: 0.030\n",
      "  Test Auxiliary Loss: 0.059\n",
      "  Test Primary Loss: 0.017\n",
      "NEW HIGHEST SCORE  0.7265786306221584\n",
      "  Test took: 0:00:03\n",
      "\n",
      "======== Epoch 2 / 30 ========\n",
      "Training...\n"
     ]
    },
    {
     "name": "stderr",
     "output_type": "stream",
     "text": [
      "/tmp/ipykernel_207359/889554439.py:66: UserWarning: Implicit dimension choice for log_softmax has been deprecated. Change the call to include dim=X as an argument.\n",
      "  student_output = torch.nn.functional.log_softmax(auxiliary_logits)\n",
      "/tmp/ipykernel_207359/889554439.py:67: UserWarning: Implicit dimension choice for softmax has been deprecated. Change the call to include dim=X as an argument.\n",
      "  teacher_output = torch.nn.functional.softmax(b_teacher_logits)\n"
     ]
    },
    {
     "name": "stdout",
     "output_type": "stream",
     "text": [
      "  Batch   100  of    145.    Elapsed: 0:00:18.\n",
      "best threshold:  0.5\n",
      "  Average training loss: 0.023\n",
      "  Average prim. training loss: 0.015\n",
      "  Average aux. training loss: 0.042\n",
      "  Training epoch took: 0:00:25\n",
      "Num unlabeled batches: 145\n",
      "Num labeled batches 145\n"
     ]
    },
    {
     "name": "stderr",
     "output_type": "stream",
     "text": [
      "/tmp/ipykernel_207359/889554439.py:157: UserWarning: Implicit dimension choice for log_softmax has been deprecated. Change the call to include dim=X as an argument.\n",
      "  student_output = torch.nn.functional.log_softmax(auxiliary_logits)\n",
      "/tmp/ipykernel_207359/889554439.py:158: UserWarning: Implicit dimension choice for softmax has been deprecated. Change the call to include dim=X as an argument.\n",
      "  teacher_output = torch.nn.functional.softmax(b_teacher_logits)\n"
     ]
    },
    {
     "name": "stdout",
     "output_type": "stream",
     "text": [
      "F1-score:  0.3218742902789131\n",
      "  Test Loss: 0.020\n",
      "  Test Auxiliary Loss: 0.035\n",
      "  Test Primary Loss: 0.014\n",
      "NEW HIGHEST SCORE  0.8326210239590998\n",
      "  Test took: 0:00:03\n",
      "\n",
      "======== Epoch 3 / 30 ========\n",
      "Training...\n"
     ]
    },
    {
     "name": "stderr",
     "output_type": "stream",
     "text": [
      "/tmp/ipykernel_207359/889554439.py:66: UserWarning: Implicit dimension choice for log_softmax has been deprecated. Change the call to include dim=X as an argument.\n",
      "  student_output = torch.nn.functional.log_softmax(auxiliary_logits)\n",
      "/tmp/ipykernel_207359/889554439.py:67: UserWarning: Implicit dimension choice for softmax has been deprecated. Change the call to include dim=X as an argument.\n",
      "  teacher_output = torch.nn.functional.softmax(b_teacher_logits)\n"
     ]
    },
    {
     "name": "stdout",
     "output_type": "stream",
     "text": [
      "  Batch   100  of    145.    Elapsed: 0:00:18.\n",
      "best threshold:  0.5\n",
      "  Average training loss: 0.014\n",
      "  Average prim. training loss: 0.011\n",
      "  Average aux. training loss: 0.022\n",
      "  Training epoch took: 0:00:26\n",
      "Num unlabeled batches: 145\n",
      "Num labeled batches 144\n"
     ]
    },
    {
     "name": "stderr",
     "output_type": "stream",
     "text": [
      "/tmp/ipykernel_207359/889554439.py:157: UserWarning: Implicit dimension choice for log_softmax has been deprecated. Change the call to include dim=X as an argument.\n",
      "  student_output = torch.nn.functional.log_softmax(auxiliary_logits)\n",
      "/tmp/ipykernel_207359/889554439.py:158: UserWarning: Implicit dimension choice for softmax has been deprecated. Change the call to include dim=X as an argument.\n",
      "  teacher_output = torch.nn.functional.softmax(b_teacher_logits)\n"
     ]
    },
    {
     "name": "stdout",
     "output_type": "stream",
     "text": [
      "F1-score:  0.37976992639122364\n",
      "  Test Loss: 0.018\n",
      "  Test Auxiliary Loss: 0.030\n",
      "  Test Primary Loss: 0.013\n",
      "NEW HIGHEST SCORE  0.8632677710499853\n",
      "  Test took: 0:00:03\n",
      "\n",
      "======== Epoch 4 / 30 ========\n",
      "Training...\n"
     ]
    },
    {
     "name": "stderr",
     "output_type": "stream",
     "text": [
      "/tmp/ipykernel_207359/889554439.py:66: UserWarning: Implicit dimension choice for log_softmax has been deprecated. Change the call to include dim=X as an argument.\n",
      "  student_output = torch.nn.functional.log_softmax(auxiliary_logits)\n",
      "/tmp/ipykernel_207359/889554439.py:67: UserWarning: Implicit dimension choice for softmax has been deprecated. Change the call to include dim=X as an argument.\n",
      "  teacher_output = torch.nn.functional.softmax(b_teacher_logits)\n"
     ]
    },
    {
     "name": "stdout",
     "output_type": "stream",
     "text": [
      "  Batch   100  of    145.    Elapsed: 0:00:18.\n",
      "best threshold:  0.5\n",
      "  Average training loss: 0.010\n",
      "  Average prim. training loss: 0.008\n",
      "  Average aux. training loss: 0.015\n",
      "  Training epoch took: 0:00:26\n",
      "Num unlabeled batches: 145\n",
      "Num labeled batches 145\n"
     ]
    },
    {
     "name": "stderr",
     "output_type": "stream",
     "text": [
      "/tmp/ipykernel_207359/889554439.py:157: UserWarning: Implicit dimension choice for log_softmax has been deprecated. Change the call to include dim=X as an argument.\n",
      "  student_output = torch.nn.functional.log_softmax(auxiliary_logits)\n",
      "/tmp/ipykernel_207359/889554439.py:158: UserWarning: Implicit dimension choice for softmax has been deprecated. Change the call to include dim=X as an argument.\n",
      "  teacher_output = torch.nn.functional.softmax(b_teacher_logits)\n"
     ]
    },
    {
     "name": "stdout",
     "output_type": "stream",
     "text": [
      "F1-score:  0.4002241681498735\n",
      "  Test Loss: 0.016\n",
      "  Test Auxiliary Loss: 0.026\n",
      "  Test Primary Loss: 0.012\n",
      "NEW HIGHEST SCORE  0.8845591427603146\n",
      "  Test took: 0:00:03\n",
      "\n",
      "======== Epoch 5 / 30 ========\n",
      "Training...\n"
     ]
    },
    {
     "name": "stderr",
     "output_type": "stream",
     "text": [
      "/tmp/ipykernel_207359/889554439.py:66: UserWarning: Implicit dimension choice for log_softmax has been deprecated. Change the call to include dim=X as an argument.\n",
      "  student_output = torch.nn.functional.log_softmax(auxiliary_logits)\n",
      "/tmp/ipykernel_207359/889554439.py:67: UserWarning: Implicit dimension choice for softmax has been deprecated. Change the call to include dim=X as an argument.\n",
      "  teacher_output = torch.nn.functional.softmax(b_teacher_logits)\n"
     ]
    },
    {
     "name": "stdout",
     "output_type": "stream",
     "text": [
      "  Batch   100  of    145.    Elapsed: 0:00:18.\n",
      "best threshold:  0.5\n",
      "  Average training loss: 0.007\n",
      "  Average prim. training loss: 0.005\n",
      "  Average aux. training loss: 0.012\n",
      "  Training epoch took: 0:00:26\n",
      "Num unlabeled batches: 145\n",
      "Num labeled batches 144\n"
     ]
    },
    {
     "name": "stderr",
     "output_type": "stream",
     "text": [
      "/tmp/ipykernel_207359/889554439.py:157: UserWarning: Implicit dimension choice for log_softmax has been deprecated. Change the call to include dim=X as an argument.\n",
      "  student_output = torch.nn.functional.log_softmax(auxiliary_logits)\n",
      "/tmp/ipykernel_207359/889554439.py:158: UserWarning: Implicit dimension choice for softmax has been deprecated. Change the call to include dim=X as an argument.\n",
      "  teacher_output = torch.nn.functional.softmax(b_teacher_logits)\n"
     ]
    },
    {
     "name": "stdout",
     "output_type": "stream",
     "text": [
      "F1-score:  0.4633803001907292\n",
      "  Test Loss: 0.015\n",
      "  Test Auxiliary Loss: 0.023\n",
      "  Test Primary Loss: 0.012\n",
      "NEW HIGHEST SCORE  0.8846636479001183\n",
      "  Test took: 0:00:03\n",
      "\n",
      "======== Epoch 6 / 30 ========\n",
      "Training...\n"
     ]
    },
    {
     "name": "stderr",
     "output_type": "stream",
     "text": [
      "/tmp/ipykernel_207359/889554439.py:66: UserWarning: Implicit dimension choice for log_softmax has been deprecated. Change the call to include dim=X as an argument.\n",
      "  student_output = torch.nn.functional.log_softmax(auxiliary_logits)\n",
      "/tmp/ipykernel_207359/889554439.py:67: UserWarning: Implicit dimension choice for softmax has been deprecated. Change the call to include dim=X as an argument.\n",
      "  teacher_output = torch.nn.functional.softmax(b_teacher_logits)\n"
     ]
    },
    {
     "name": "stdout",
     "output_type": "stream",
     "text": [
      "  Batch   100  of    145.    Elapsed: 0:00:18.\n",
      "best threshold:  0.5\n",
      "  Average training loss: 0.005\n",
      "  Average prim. training loss: 0.004\n",
      "  Average aux. training loss: 0.009\n",
      "  Training epoch took: 0:00:26\n",
      "Num unlabeled batches: 145\n",
      "Num labeled batches 144\n"
     ]
    },
    {
     "name": "stderr",
     "output_type": "stream",
     "text": [
      "/tmp/ipykernel_207359/889554439.py:157: UserWarning: Implicit dimension choice for log_softmax has been deprecated. Change the call to include dim=X as an argument.\n",
      "  student_output = torch.nn.functional.log_softmax(auxiliary_logits)\n",
      "/tmp/ipykernel_207359/889554439.py:158: UserWarning: Implicit dimension choice for softmax has been deprecated. Change the call to include dim=X as an argument.\n",
      "  teacher_output = torch.nn.functional.softmax(b_teacher_logits)\n"
     ]
    },
    {
     "name": "stdout",
     "output_type": "stream",
     "text": [
      "F1-score:  0.46460299752920975\n",
      "  Test Loss: 0.016\n",
      "  Test Auxiliary Loss: 0.023\n",
      "  Test Primary Loss: 0.012\n",
      "NEW HIGHEST SCORE  0.8914682363500541\n",
      "  Test took: 0:00:03\n",
      "\n",
      "======== Epoch 7 / 30 ========\n",
      "Training...\n"
     ]
    },
    {
     "name": "stderr",
     "output_type": "stream",
     "text": [
      "/tmp/ipykernel_207359/889554439.py:66: UserWarning: Implicit dimension choice for log_softmax has been deprecated. Change the call to include dim=X as an argument.\n",
      "  student_output = torch.nn.functional.log_softmax(auxiliary_logits)\n",
      "/tmp/ipykernel_207359/889554439.py:67: UserWarning: Implicit dimension choice for softmax has been deprecated. Change the call to include dim=X as an argument.\n",
      "  teacher_output = torch.nn.functional.softmax(b_teacher_logits)\n"
     ]
    },
    {
     "name": "stdout",
     "output_type": "stream",
     "text": [
      "  Batch   100  of    145.    Elapsed: 0:00:18.\n",
      "best threshold:  0.5\n",
      "  Average training loss: 0.004\n",
      "  Average prim. training loss: 0.003\n",
      "  Average aux. training loss: 0.008\n",
      "  Training epoch took: 0:00:26\n",
      "Num unlabeled batches: 145\n",
      "Num labeled batches 145\n"
     ]
    },
    {
     "name": "stderr",
     "output_type": "stream",
     "text": [
      "/tmp/ipykernel_207359/889554439.py:157: UserWarning: Implicit dimension choice for log_softmax has been deprecated. Change the call to include dim=X as an argument.\n",
      "  student_output = torch.nn.functional.log_softmax(auxiliary_logits)\n",
      "/tmp/ipykernel_207359/889554439.py:158: UserWarning: Implicit dimension choice for softmax has been deprecated. Change the call to include dim=X as an argument.\n",
      "  teacher_output = torch.nn.functional.softmax(b_teacher_logits)\n"
     ]
    },
    {
     "name": "stdout",
     "output_type": "stream",
     "text": [
      "F1-score:  0.45705356411255305\n",
      "  Test Loss: 0.016\n",
      "  Test Auxiliary Loss: 0.022\n",
      "  Test Primary Loss: 0.013\n",
      "  Test took: 0:00:03\n",
      "\n",
      "======== Epoch 8 / 30 ========\n",
      "Training...\n"
     ]
    },
    {
     "name": "stderr",
     "output_type": "stream",
     "text": [
      "/tmp/ipykernel_207359/889554439.py:66: UserWarning: Implicit dimension choice for log_softmax has been deprecated. Change the call to include dim=X as an argument.\n",
      "  student_output = torch.nn.functional.log_softmax(auxiliary_logits)\n",
      "/tmp/ipykernel_207359/889554439.py:67: UserWarning: Implicit dimension choice for softmax has been deprecated. Change the call to include dim=X as an argument.\n",
      "  teacher_output = torch.nn.functional.softmax(b_teacher_logits)\n"
     ]
    },
    {
     "name": "stdout",
     "output_type": "stream",
     "text": [
      "  Batch   100  of    145.    Elapsed: 0:00:18.\n",
      "best threshold:  0.5\n",
      "  Average training loss: 0.004\n",
      "  Average prim. training loss: 0.002\n",
      "  Average aux. training loss: 0.008\n",
      "  Training epoch took: 0:00:26\n",
      "Num unlabeled batches: 145\n",
      "Num labeled batches 145\n"
     ]
    },
    {
     "name": "stderr",
     "output_type": "stream",
     "text": [
      "/tmp/ipykernel_207359/889554439.py:157: UserWarning: Implicit dimension choice for log_softmax has been deprecated. Change the call to include dim=X as an argument.\n",
      "  student_output = torch.nn.functional.log_softmax(auxiliary_logits)\n",
      "/tmp/ipykernel_207359/889554439.py:158: UserWarning: Implicit dimension choice for softmax has been deprecated. Change the call to include dim=X as an argument.\n",
      "  teacher_output = torch.nn.functional.softmax(b_teacher_logits)\n"
     ]
    },
    {
     "name": "stdout",
     "output_type": "stream",
     "text": [
      "F1-score:  0.4443953694802371\n",
      "  Test Loss: 0.016\n",
      "  Test Auxiliary Loss: 0.023\n",
      "  Test Primary Loss: 0.014\n",
      "  Test took: 0:00:03\n",
      "\n",
      "======== Epoch 9 / 30 ========\n",
      "Training...\n"
     ]
    },
    {
     "name": "stderr",
     "output_type": "stream",
     "text": [
      "/tmp/ipykernel_207359/889554439.py:66: UserWarning: Implicit dimension choice for log_softmax has been deprecated. Change the call to include dim=X as an argument.\n",
      "  student_output = torch.nn.functional.log_softmax(auxiliary_logits)\n",
      "/tmp/ipykernel_207359/889554439.py:67: UserWarning: Implicit dimension choice for softmax has been deprecated. Change the call to include dim=X as an argument.\n",
      "  teacher_output = torch.nn.functional.softmax(b_teacher_logits)\n"
     ]
    },
    {
     "name": "stdout",
     "output_type": "stream",
     "text": [
      "  Batch   100  of    145.    Elapsed: 0:00:18.\n",
      "best threshold:  0.5\n",
      "  Average training loss: 0.003\n",
      "  Average prim. training loss: 0.002\n",
      "  Average aux. training loss: 0.007\n",
      "  Training epoch took: 0:00:26\n",
      "Num unlabeled batches: 145\n",
      "Num labeled batches 143\n"
     ]
    },
    {
     "name": "stderr",
     "output_type": "stream",
     "text": [
      "/tmp/ipykernel_207359/889554439.py:157: UserWarning: Implicit dimension choice for log_softmax has been deprecated. Change the call to include dim=X as an argument.\n",
      "  student_output = torch.nn.functional.log_softmax(auxiliary_logits)\n",
      "/tmp/ipykernel_207359/889554439.py:158: UserWarning: Implicit dimension choice for softmax has been deprecated. Change the call to include dim=X as an argument.\n",
      "  teacher_output = torch.nn.functional.softmax(b_teacher_logits)\n"
     ]
    },
    {
     "name": "stdout",
     "output_type": "stream",
     "text": [
      "F1-score:  0.46813930854061525\n",
      "  Test Loss: 0.016\n",
      "  Test Auxiliary Loss: 0.021\n",
      "  Test Primary Loss: 0.014\n",
      "  Test took: 0:00:03\n",
      "\n",
      "======== Epoch 10 / 30 ========\n",
      "Training...\n"
     ]
    },
    {
     "name": "stderr",
     "output_type": "stream",
     "text": [
      "/tmp/ipykernel_207359/889554439.py:66: UserWarning: Implicit dimension choice for log_softmax has been deprecated. Change the call to include dim=X as an argument.\n",
      "  student_output = torch.nn.functional.log_softmax(auxiliary_logits)\n",
      "/tmp/ipykernel_207359/889554439.py:67: UserWarning: Implicit dimension choice for softmax has been deprecated. Change the call to include dim=X as an argument.\n",
      "  teacher_output = torch.nn.functional.softmax(b_teacher_logits)\n"
     ]
    },
    {
     "name": "stdout",
     "output_type": "stream",
     "text": [
      "  Batch   100  of    145.    Elapsed: 0:00:18.\n",
      "best threshold:  0.5\n",
      "  Average training loss: 0.003\n",
      "  Average prim. training loss: 0.001\n",
      "  Average aux. training loss: 0.006\n",
      "  Training epoch took: 0:00:26\n",
      "Num unlabeled batches: 145\n",
      "Num labeled batches 145\n"
     ]
    },
    {
     "name": "stderr",
     "output_type": "stream",
     "text": [
      "/tmp/ipykernel_207359/889554439.py:157: UserWarning: Implicit dimension choice for log_softmax has been deprecated. Change the call to include dim=X as an argument.\n",
      "  student_output = torch.nn.functional.log_softmax(auxiliary_logits)\n",
      "/tmp/ipykernel_207359/889554439.py:158: UserWarning: Implicit dimension choice for softmax has been deprecated. Change the call to include dim=X as an argument.\n",
      "  teacher_output = torch.nn.functional.softmax(b_teacher_logits)\n"
     ]
    },
    {
     "name": "stdout",
     "output_type": "stream",
     "text": [
      "F1-score:  0.4918745654728378\n",
      "  Test Loss: 0.016\n",
      "  Test Auxiliary Loss: 0.020\n",
      "  Test Primary Loss: 0.014\n"
     ]
    }
   ],
   "source": [
    "training_stats= []\n",
    "\n",
    "log_var_a = torch.zeros((1,), requires_grad=True,device=device)\n",
    "log_var_b = torch.zeros((1,), requires_grad=True,device=device)\n",
    "\n",
    "\n",
    "transformer_vars = [i for i in transformer.parameters()]\n",
    "\n",
    "model_vars = transformer_vars + [i for i in model.parameters()] + [log_var_a] + [log_var_b]\n",
    "\n",
    "optimizer = torch.optim.AdamW(model_vars,lr=learning_rate)\n",
    "\n",
    "primary_loss_func = new_and_improved\n",
    "auxiliary_loss_func = torch.nn.KLDivLoss(reduction = \"batchmean\")\n",
    "\n",
    "best_f1 = 0\n",
    "best_epoch = 0\n",
    "best_report = {}\n",
    "best_auc = 0\n",
    "for epoch_i in range(num_train_epochs):\n",
    "    print(\"\")\n",
    "    print('======== Epoch {:} / {:} ========'.format(epoch_i + 1, num_train_epochs))\n",
    "    print('Training...')\n",
    "    \n",
    "    t0 = time.time()\n",
    "    tr_loss = 0\n",
    "    p_tr_loss = 0\n",
    "    a_tr_loss = 0 \n",
    "    transformer.train()\n",
    "    model.train()\n",
    "    \n",
    "    labeled_num = 0\n",
    "    unlabeled_num = 0\n",
    "    all_probs = []\n",
    "    all_labels_ids = []\n",
    "    \n",
    "    for step,batch in enumerate(train_dataloader):\n",
    "\n",
    "        \n",
    "        if step % print_each_n_step == 0 and not step == 0:\n",
    "            # Calculate elapsed time in minutes.\n",
    "            elapsed = format_time(time.time() - t0)\n",
    "            \n",
    "            # Report progress.\n",
    "            print('  Batch {:>5,}  of  {:>5,}.    Elapsed: {:}.'.format(step, len(train_dataloader), elapsed))\n",
    "            \n",
    "        b_input_ids = batch[0].to(device).reshape(len(batch[0]),max_length)\n",
    "        b_attention_mask = batch[1].to(device).reshape(len(batch[0]),max_length)\n",
    "        b_labels = batch[2].to(device)\n",
    "        b_teacher_logits = batch[3].to(device)/T\n",
    "        b_label_mask = batch[4].to(device)\n",
    "        \n",
    "        transformer_outputs = transformer(b_input_ids,attention_mask=b_attention_mask)[-1]\n",
    "\n",
    "        primary_probs,auxiliary_logits = model(transformer_outputs,T)\n",
    "        \n",
    "        #filtering        \n",
    "        primary_probs = primary_probs[b_label_mask]\n",
    "        b_labels = b_labels[b_label_mask]\n",
    "        \n",
    "        b_teacher_logits = b_teacher_logits[~b_label_mask]\n",
    "        auxiliary_logits = auxiliary_logits[~b_label_mask]\n",
    "        \n",
    "        \n",
    "        if (~b_label_mask).sum() > 0:\n",
    "            student_output = torch.nn.functional.log_softmax(auxiliary_logits)\n",
    "            teacher_output = torch.nn.functional.softmax(b_teacher_logits)\n",
    "        \n",
    "            auxiliary_loss = auxiliary_loss_func(student_output,teacher_output)\n",
    "            a_tr_loss += auxiliary_loss\n",
    "            unlabeled_num += 1\n",
    "        \n",
    "        else:\n",
    "            auxiliary_loss = 0\n",
    "            \n",
    "        if(b_label_mask).sum() > 0:\n",
    "            primary_loss = primary_loss_func(primary_probs,b_labels)\n",
    "            p_tr_loss += primary_loss\n",
    "            labeled_num += 1\n",
    "        \n",
    "        else:\n",
    "            primary_loss = 0\n",
    "\n",
    "        batch_loss = primary_loss * (1-alpha) + auxiliary_loss * alpha\n",
    "        \n",
    "        #batch_loss = (primary_loss * torch.exp(-log_var_a) +log_var_a) + (auxiliary_loss * torch.exp(-log_var_b) + log_var_b) \n",
    "\n",
    "        \n",
    "        optimizer.zero_grad()\n",
    "\n",
    "        \n",
    "            \n",
    "        batch_loss.backward()\n",
    "        optimizer.step()\n",
    "        \n",
    "        \n",
    "        all_probs += primary_probs.detach().cpu()\n",
    "        all_labels_ids += b_labels.detach().cpu()\n",
    "        \n",
    "        tr_loss += batch_loss.item()\n",
    "        \n",
    "        \n",
    "    all_probs = torch.stack(all_probs).numpy()\n",
    "    all_labels_ids = torch.stack(all_labels_ids).numpy()\n",
    "    \n",
    "    threshold = find_best_threshold(all_labels_ids,all_probs)\n",
    "    print(\"best threshold: \",threshold)\n",
    "    \n",
    "    avg_train_loss = tr_loss/len(train_dataloader)\n",
    "    avg_primary_loss = p_tr_loss/labeled_num\n",
    "    avg_aux_loss = a_tr_loss/unlabeled_num\n",
    "    training_time = format_time(time.time()-t0)\n",
    "    \n",
    "    print(\"  Average training loss: {0:.3f}\".format(avg_train_loss))\n",
    "    print(\"  Average prim. training loss: {0:.3f}\".format(avg_primary_loss))\n",
    "    print(\"  Average aux. training loss: {0:.3f}\".format(avg_aux_loss))\n",
    "\n",
    "    print(\"  Training epoch took: {:}\".format(training_time))\n",
    "    print(\"Num unlabeled batches:\",unlabeled_num)\n",
    "    print(\"Num labeled batches\",labeled_num)\n",
    "\n",
    "    transformer.eval()\n",
    "    model.eval()\n",
    "    t0 = time.time()\n",
    "    \n",
    "    total_test_loss = 0\n",
    "    primary_test_loss = 0\n",
    "    auxiliary_test_loss = 0\n",
    "    \n",
    "    \n",
    "    num_labeled = 0\n",
    "    num_unlabeled = 0\n",
    "    all_preds = []\n",
    "    all_labels_ids = []\n",
    "    all_probs = []\n",
    "    \n",
    "    for batch in test_dataloader:\n",
    "        \n",
    "        b_input_ids = batch[0].to(device).reshape(len(batch[0]),max_length)\n",
    "        b_attention_mask = batch[1].to(device).reshape(len(batch[0]),max_length)\n",
    "        b_labels = batch[2].to(device)\n",
    "        b_teacher_logits = batch[3].to(device)/T\n",
    "        b_label_mask = batch[4].to(device)        \n",
    "        with torch.no_grad():\n",
    "            transformer_outputs = transformer(b_input_ids,attention_mask=b_attention_mask)[-1]\n",
    "\n",
    "            primary_probs,auxiliary_logits = model(transformer_outputs,T)\n",
    "            \n",
    "            #filtering        \n",
    "            primary_probs = primary_probs[b_label_mask]\n",
    "            b_labels = b_labels[b_label_mask]\n",
    "        \n",
    "            b_teacher_logits = b_teacher_logits[~b_label_mask]\n",
    "            auxiliary_logits = auxiliary_logits[~b_label_mask]\n",
    "            \n",
    "            if (~b_label_mask).sum() > 0:\n",
    "                student_output = torch.nn.functional.log_softmax(auxiliary_logits)\n",
    "                teacher_output = torch.nn.functional.softmax(b_teacher_logits)\n",
    "        \n",
    "                auxiliary_loss = auxiliary_loss_func(student_output,teacher_output)\n",
    "                auxiliary_test_loss += auxiliary_loss.item()\n",
    "                num_unlabeled += 1\n",
    "            else:\n",
    "                auxiliary_loss = 0\n",
    "        \n",
    "            if(b_label_mask).sum() > 0:\n",
    "                primary_loss = primary_loss_func(primary_probs,b_labels)\n",
    "                primary_test_loss += primary_loss.item()\n",
    "                num_labeled += 1\n",
    "        \n",
    "            else:\n",
    "                primary_loss = 0\n",
    "        \n",
    "            total_test_loss += primary_loss * (1-alpha) + auxiliary_loss * alpha\n",
    "            #total_test_loss = (primary_loss * torch.exp(-log_var_a) +log_var_a) + (auxiliary_loss * torch.exp(-log_var_b) + log_var_b) \n",
    "\n",
    "            \n",
    "            \n",
    "        all_probs += primary_probs.detach().cpu()\n",
    "        all_labels_ids += b_labels.detach().cpu()\n",
    "        \n",
    "    all_probs = torch.stack(all_probs).numpy()\n",
    "    all_preds = all_probs > threshold\n",
    "    all_labels_ids = torch.stack(all_labels_ids).numpy()\n",
    "    \n",
    "    cur_auc = roc_auc_score(all_labels_ids,all_probs)\n",
    "    \n",
    "    if cur_auc > best_auc:\n",
    "        best_auc = cur_auc\n",
    "        best_auc_epoch = epoch_i\n",
    "        \n",
    "    cur_report = classification_report(all_labels_ids,all_preds,target_names=target_names, zero_division=0,output_dict=True)\n",
    "    if cur_report['macro avg']['f1-score'] >= best_f1:\n",
    "        best_f1 = cur_report['macro avg']['f1-score']\n",
    "        best_epoch = epoch_i\n",
    "        best_report = cur_report\n",
    "        \n",
    "    avg_test_loss = total_test_loss/len(test_dataloader)\n",
    "    \n",
    "    \n",
    "    auxiliary_test_loss = auxiliary_test_loss / num_unlabeled\n",
    "    \n",
    "    primary_test_loss = primary_test_loss / num_labeled\n",
    "\n",
    "    test_time = format_time(time.time() - t0)\n",
    "    \n",
    "    print(\"F1-score: \",cur_report['macro avg']['f1-score'])\n",
    "    print(\"  Test Loss: {0:.3f}\".format(avg_test_loss.item()))\n",
    "    print(\"  Test Auxiliary Loss: {0:.3f}\".format(auxiliary_test_loss))\n",
    "    print(\"  Test Primary Loss: {0:.3f}\".format(primary_test_loss))\n",
    "    if stop.early_stop(cur_auc):\n",
    "        break\n",
    "    print(\"  Test took: {:}\".format(test_time))\n",
    "    training_stats.append(\n",
    "        {\n",
    "            'epoch': epoch_i + 1,\n",
    "            'Training Loss': avg_train_loss,\n",
    "            'Test Loss': avg_test_loss.item(),\n",
    "            'F1-score':cur_report['macro avg']['f1-score'],\n",
    "            'Training Primary Loss': avg_primary_loss.item(),\n",
    "            'Test Primary Loss': primary_test_loss,\n",
    "            'Training Aux Loss': avg_aux_loss.item(),\n",
    "            'Test Aux Loss': auxiliary_test_loss,\n",
    "            'Training Time': training_time,\n",
    "            'Test Time': test_time\n",
    "        })\n",
    "\n",
    "\n",
    "    "
   ]
  },
  {
   "cell_type": "code",
   "execution_count": 43,
   "id": "852757a4",
   "metadata": {},
   "outputs": [],
   "source": [
    "best_fine_tuning_report = best_report\n",
    "best_fine_tuning_epoch = best_epoch"
   ]
  },
  {
   "cell_type": "code",
   "execution_count": 44,
   "id": "e144454c",
   "metadata": {},
   "outputs": [
    {
     "name": "stdout",
     "output_type": "stream",
     "text": [
      "BEST AUC:  0.8914682363500541\n",
      "epoch:  5\n"
     ]
    }
   ],
   "source": [
    "print(\"BEST AUC: \",best_auc)\n",
    "print(\"epoch: \",best_auc_epoch)"
   ]
  },
  {
   "cell_type": "code",
   "execution_count": 45,
   "id": "e2b1de48",
   "metadata": {},
   "outputs": [
    {
     "data": {
      "text/plain": [
       "<AxesSubplot:>"
      ]
     },
     "execution_count": 45,
     "metadata": {},
     "output_type": "execute_result"
    },
    {
     "data": {
      "image/png": "[encoded data removed]",
      "text/plain": [
       "<Figure size 1500x1000 with 2 Axes>"
      ]
     },
     "metadata": {},
     "output_type": "display_data"
    }
   ],
   "source": [
    "fig, ax = plt.subplots(figsize=(15, 10))\n",
    "sns.heatmap(pd.DataFrame(best_fine_tuning_report).iloc[:-1, :].T, annot=True)"
   ]
  },
  {
   "cell_type": "code",
   "execution_count": 46,
   "id": "6b617a28",
   "metadata": {},
   "outputs": [
    {
     "data": {
      "text/plain": [
       "Alteração de sono                                                            13.0\n",
       "Alteração na eficiência/funcionalidade                                       39.0\n",
       "Tristeza/Humor depressivo                                                   140.0\n",
       "Desamparo/Prejuízo social/Solidão                                           128.0\n",
       "Suicído/Auto-extermínio                                                     112.0\n",
       "Preocupação/Medo /Ansiedade                                                  58.0\n",
       "Desesperança                                                                 52.0\n",
       "Desvalia / Baixa autoestima                                                  71.0\n",
       "Fator de risco                                                              126.0\n",
       "Irritação / agressividade                                                    42.0\n",
       "Sintoma físico                                                                9.0\n",
       "Sentimento de culpa                                                          21.0\n",
       "Morte / Suicído de outro                                                     18.0\n",
       "Fator protetivo, cuidado em saúde e bem-estar                                79.0\n",
       "Dificuldade para decidir                                                     11.0\n",
       "Cansaço/Desânimo/Desencorajamento/Fadiga/Perda de energia / Lentificação     40.0\n",
       "Sentimento de vazio                                                          14.0\n",
       "Alteração de peso/apetite                                                     7.0\n",
       "dtype: float64"
      ]
     },
     "execution_count": 46,
     "metadata": {},
     "output_type": "execute_result"
    }
   ],
   "source": [
    "test_df.iloc[:,1:].sum(axis=0)"
   ]
  },
  {
   "cell_type": "code",
   "execution_count": 47,
   "id": "d8f50c6b",
   "metadata": {},
   "outputs": [
    {
     "name": "stdout",
     "output_type": "stream",
     "text": [
      "epoch:  9\n"
     ]
    }
   ],
   "source": [
    "print(\"epoch: \",best_epoch)"
   ]
  },
  {
   "cell_type": "code",
   "execution_count": 48,
   "id": "eed23bf0",
   "metadata": {},
   "outputs": [],
   "source": [
    "losses = pd.DataFrame(training_stats)[[\"Training Loss\", \"Test Loss\",\"F1-score\",'Test Aux Loss','Training Aux Loss',\n",
    "                                      'Training Primary Loss', 'Test Primary Loss']]"
   ]
  },
  {
   "cell_type": "code",
   "execution_count": 49,
   "id": "539173ee",
   "metadata": {},
   "outputs": [
    {
     "data": {
      "text/html": [
       "<div>\n",
       "<style scoped>\n",
       "    .dataframe tbody tr th:only-of-type {\n",
       "        vertical-align: middle;\n",
       "    }\n",
       "\n",
       "    .dataframe tbody tr th {\n",
       "        vertical-align: top;\n",
       "    }\n",
       "\n",
       "    .dataframe thead th {\n",
       "        text-align: right;\n",
       "    }\n",
       "</style>\n",
       "<table border=\"1\" class=\"dataframe\">\n",
       "  <thead>\n",
       "    <tr style=\"text-align: right;\">\n",
       "      <th></th>\n",
       "      <th>Training Loss</th>\n",
       "      <th>Test Loss</th>\n",
       "      <th>F1-score</th>\n",
       "      <th>Test Aux Loss</th>\n",
       "      <th>Training Aux Loss</th>\n",
       "      <th>Training Primary Loss</th>\n",
       "      <th>Test Primary Loss</th>\n",
       "    </tr>\n",
       "  </thead>\n",
       "  <tbody>\n",
       "    <tr>\n",
       "      <th>0</th>\n",
       "      <td>0.058178</td>\n",
       "      <td>0.029731</td>\n",
       "      <td>0.185388</td>\n",
       "      <td>0.059384</td>\n",
       "      <td>0.145591</td>\n",
       "      <td>0.020859</td>\n",
       "      <td>0.017022</td>\n",
       "    </tr>\n",
       "    <tr>\n",
       "      <th>1</th>\n",
       "      <td>0.023461</td>\n",
       "      <td>0.020388</td>\n",
       "      <td>0.321874</td>\n",
       "      <td>0.035382</td>\n",
       "      <td>0.042091</td>\n",
       "      <td>0.015477</td>\n",
       "      <td>0.013962</td>\n",
       "    </tr>\n",
       "    <tr>\n",
       "      <th>2</th>\n",
       "      <td>0.014075</td>\n",
       "      <td>0.017756</td>\n",
       "      <td>0.379770</td>\n",
       "      <td>0.029703</td>\n",
       "      <td>0.021796</td>\n",
       "      <td>0.010841</td>\n",
       "      <td>0.012636</td>\n",
       "    </tr>\n",
       "    <tr>\n",
       "      <th>3</th>\n",
       "      <td>0.009965</td>\n",
       "      <td>0.016462</td>\n",
       "      <td>0.400224</td>\n",
       "      <td>0.026034</td>\n",
       "      <td>0.014632</td>\n",
       "      <td>0.007965</td>\n",
       "      <td>0.012360</td>\n",
       "    </tr>\n",
       "    <tr>\n",
       "      <th>4</th>\n",
       "      <td>0.007157</td>\n",
       "      <td>0.015492</td>\n",
       "      <td>0.463380</td>\n",
       "      <td>0.023027</td>\n",
       "      <td>0.011669</td>\n",
       "      <td>0.005260</td>\n",
       "      <td>0.012263</td>\n",
       "    </tr>\n",
       "    <tr>\n",
       "      <th>5</th>\n",
       "      <td>0.005338</td>\n",
       "      <td>0.015577</td>\n",
       "      <td>0.464603</td>\n",
       "      <td>0.022886</td>\n",
       "      <td>0.009099</td>\n",
       "      <td>0.003752</td>\n",
       "      <td>0.012444</td>\n",
       "    </tr>\n",
       "    <tr>\n",
       "      <th>6</th>\n",
       "      <td>0.004498</td>\n",
       "      <td>0.015831</td>\n",
       "      <td>0.457054</td>\n",
       "      <td>0.021725</td>\n",
       "      <td>0.008247</td>\n",
       "      <td>0.002891</td>\n",
       "      <td>0.013305</td>\n",
       "    </tr>\n",
       "    <tr>\n",
       "      <th>7</th>\n",
       "      <td>0.003765</td>\n",
       "      <td>0.016294</td>\n",
       "      <td>0.444395</td>\n",
       "      <td>0.022509</td>\n",
       "      <td>0.007540</td>\n",
       "      <td>0.002148</td>\n",
       "      <td>0.013630</td>\n",
       "    </tr>\n",
       "    <tr>\n",
       "      <th>8</th>\n",
       "      <td>0.003089</td>\n",
       "      <td>0.015852</td>\n",
       "      <td>0.468139</td>\n",
       "      <td>0.020772</td>\n",
       "      <td>0.006685</td>\n",
       "      <td>0.001570</td>\n",
       "      <td>0.013744</td>\n",
       "    </tr>\n",
       "  </tbody>\n",
       "</table>\n",
       "</div>"
      ],
      "text/plain": [
       "   Training Loss  Test Loss  F1-score  Test Aux Loss  Training Aux Loss  \\\n",
       "0       0.058178   0.029731  0.185388       0.059384           0.145591   \n",
       "1       0.023461   0.020388  0.321874       0.035382           0.042091   \n",
       "2       0.014075   0.017756  0.379770       0.029703           0.021796   \n",
       "3       0.009965   0.016462  0.400224       0.026034           0.014632   \n",
       "4       0.007157   0.015492  0.463380       0.023027           0.011669   \n",
       "5       0.005338   0.015577  0.464603       0.022886           0.009099   \n",
       "6       0.004498   0.015831  0.457054       0.021725           0.008247   \n",
       "7       0.003765   0.016294  0.444395       0.022509           0.007540   \n",
       "8       0.003089   0.015852  0.468139       0.020772           0.006685   \n",
       "\n",
       "   Training Primary Loss  Test Primary Loss  \n",
       "0               0.020859           0.017022  \n",
       "1               0.015477           0.013962  \n",
       "2               0.010841           0.012636  \n",
       "3               0.007965           0.012360  \n",
       "4               0.005260           0.012263  \n",
       "5               0.003752           0.012444  \n",
       "6               0.002891           0.013305  \n",
       "7               0.002148           0.013630  \n",
       "8               0.001570           0.013744  "
      ]
     },
     "execution_count": 49,
     "metadata": {},
     "output_type": "execute_result"
    }
   ],
   "source": [
    "losses"
   ]
  },
  {
   "cell_type": "markdown",
   "id": "c3f8d92c",
   "metadata": {},
   "source": [
    "# checando se o modelo ainda classifica emoções"
   ]
  },
  {
   "cell_type": "code",
   "execution_count": 50,
   "id": "8d38fa34",
   "metadata": {},
   "outputs": [],
   "source": [
    "go_emotions_path = \"data/goemotions\"\n",
    "test = pd.read_csv(f\"{go_emotions_path}/test.tsv\",sep='\\t')\n",
    "emotion_dict = {\n",
    "    \"admiração\": 0,\n",
    "    \"diversão\": 1,\n",
    "    \"raiva\": 2,\n",
    "    \"aborrecimento\": 3,\n",
    "    \"aprovação\": 4,\n",
    "    \"zelo\": 5,\n",
    "    \"confusão\": 6,\n",
    "    \"curiosidade\": 7,\n",
    "    \"desejo\": 8,\n",
    "    \"decepção\": 9,\n",
    "    \"desaprovação\": 10,\n",
    "    \"nojo\": 11,\n",
    "    \"constrangimento\": 12,\n",
    "    \"entusiasmo\": 13,\n",
    "    \"medo\": 14,\n",
    "    \"gratidão\": 15,\n",
    "    \"luto\": 16,\n",
    "    \"alegria\": 17,\n",
    "    \"amor\": 18,\n",
    "    \"nervosismo\": 19,\n",
    "    \"otimismo\": 20,\n",
    "    \"orgulho\": 21,\n",
    "    \"percepção\": 22,\n",
    "    \"alívio\": 23,\n",
    "    \"remorso\": 24,\n",
    "    \"tristeza\": 25,\n",
    "    \"surpresa\": 26,\n",
    "    \"neutro\": 27\n",
    "}"
   ]
  },
  {
   "cell_type": "code",
   "execution_count": 51,
   "id": "d9e0e478",
   "metadata": {},
   "outputs": [],
   "source": [
    "drop = []\n",
    "for key in emotion_dict:\n",
    "    if emotion_dict[key] in list(idx):\n",
    "        drop.append(key)\n",
    "for key in drop:\n",
    "    del emotion_dict[key]"
   ]
  },
  {
   "cell_type": "code",
   "execution_count": 52,
   "id": "4b48cb0b",
   "metadata": {},
   "outputs": [],
   "source": [
    "def filter_dropped(row,idx):\n",
    "    for label in row.labels.split(\",\"):\n",
    "        if int(label) in list(idx):\n",
    "            return {}\n",
    "    return row"
   ]
  },
  {
   "cell_type": "code",
   "execution_count": 53,
   "id": "5cb83e71",
   "metadata": {},
   "outputs": [],
   "source": [
    "test = test.apply(lambda x: filter_dropped(x,idx),axis=1).dropna()"
   ]
  },
  {
   "cell_type": "code",
   "execution_count": 54,
   "id": "b8ceafc1",
   "metadata": {},
   "outputs": [],
   "source": [
    "def change_label_encoding(row):\n",
    "    labels = row['labels'].replace(\" \",\"\").split(\",\")\n",
    "    new_row = {}\n",
    "    for emotion in emotion_dict:\n",
    "        if str(emotion_dict[emotion]) in labels:\n",
    "            new_row[emotion] = True\n",
    "        else:\n",
    "            new_row[emotion] = False\n",
    "    return new_row"
   ]
  },
  {
   "cell_type": "code",
   "execution_count": 55,
   "id": "cfd44d67",
   "metadata": {},
   "outputs": [],
   "source": [
    "test_labels = pd.DataFrame(list(test.apply(change_label_encoding,axis=1)))\n",
    "test_inputs = list(test.text.apply(lambda x: x[:512] if len(x) > 512 else x))\n"
   ]
  },
  {
   "cell_type": "code",
   "execution_count": 56,
   "id": "3fbb05eb",
   "metadata": {},
   "outputs": [],
   "source": [
    "inputs = []\n",
    "attention_masks =[]\n",
    "for text in test_inputs:\n",
    "    encoding = tokenizer.encode_plus(\n",
    "            text,\n",
    "            add_special_tokens=True,\n",
    "            max_length=128,\n",
    "            return_token_type_ids=False,\n",
    "            padding=\"max_length\",\n",
    "            truncation=True,\n",
    "            return_attention_mask=True,\n",
    "            return_tensors='pt',\n",
    "        )\n",
    "    inputs.append(encoding['input_ids'])\n",
    "    attention_masks.append(encoding['attention_mask'])\n",
    "        \n",
    "inputs = torch.stack(inputs)\n",
    "attention_masks = torch.stack(attention_masks)\n",
    "\n",
    "dataset = TensorDataset(inputs, attention_masks)\n",
    "emotion_dataloader = DataLoader(\n",
    "              dataset,\n",
    "              sampler = SequentialSampler(dataset), \n",
    "              batch_size = batch_size)"
   ]
  },
  {
   "cell_type": "code",
   "execution_count": 57,
   "id": "471a3638",
   "metadata": {},
   "outputs": [
    {
     "name": "stderr",
     "output_type": "stream",
     "text": [
      "/tmp/ipykernel_207359/3471756121.py:13: UserWarning: Implicit dimension choice for softmax has been deprecated. Change the call to include dim=X as an argument.\n",
      "  for b_pred in (torch.nn.functional.softmax(auxiliary_logits).detach().cpu() > threshold):\n"
     ]
    }
   ],
   "source": [
    "transformer = transformer.to(device)\n",
    "softmax = torch.nn.Softmax()\n",
    "predictions = []\n",
    "threshold = 0.3\n",
    "for step,batch in enumerate(emotion_dataloader):\n",
    "        b_input_ids = batch[0].reshape(len(batch[0]),max_length).to(device)\n",
    "        b_attention_mask = batch[1].reshape(len(batch[0]),max_length).to(device)\n",
    "       \n",
    "        \n",
    "        with torch.no_grad():\n",
    "            transformer_outputs = transformer(b_input_ids,attention_mask=b_attention_mask)[-1]\n",
    "            _,auxiliary_logits = model(transformer_outputs,T=1)\n",
    "            for b_pred in (torch.nn.functional.softmax(auxiliary_logits).detach().cpu() > threshold):\n",
    "                predictions.append(b_pred)\n",
    "predictions = torch.stack(predictions) "
   ]
  },
  {
   "cell_type": "code",
   "execution_count": 58,
   "id": "7633ab1b",
   "metadata": {},
   "outputs": [
    {
     "data": {
      "text/plain": [
       "<AxesSubplot:>"
      ]
     },
     "execution_count": 58,
     "metadata": {},
     "output_type": "execute_result"
    },
    {
     "data": {
      "image/png": "[encoded data removed]",
      "text/plain": [
       "<Figure size 1500x1000 with 2 Axes>"
      ]
     },
     "metadata": {},
     "output_type": "display_data"
    }
   ],
   "source": [
    "\n",
    "emotion_results = classification_report(np.array(test_labels),np.array(predictions),target_names=test_labels.columns,output_dict=True,zero_division=0)\n",
    "\n",
    "fig, ax = plt.subplots(figsize=(15, 10))\n",
    "sns.heatmap(pd.DataFrame(emotion_results).iloc[:-1, :].T, annot=True)"
   ]
  },
  {
   "cell_type": "code",
   "execution_count": 59,
   "id": "e28cc4c4",
   "metadata": {},
   "outputs": [
    {
     "data": {
      "text/plain": [
       "Parameter containing:\n",
       "tensor([[-0.0223,  0.0347, -0.0037,  ...,  0.0107,  0.0089, -0.0196],\n",
       "        [-0.0215,  0.0091,  0.0119,  ...,  0.0074,  0.0001, -0.0075],\n",
       "        [-0.0170, -0.0092,  0.0075,  ...,  0.0070, -0.0148, -0.0221],\n",
       "        ...,\n",
       "        [ 0.0088, -0.0067, -0.0040,  ..., -0.0047, -0.0080,  0.0106],\n",
       "        [ 0.0097,  0.0006,  0.0133,  ...,  0.0034,  0.0028,  0.0323],\n",
       "        [ 0.0142, -0.0125,  0.0148,  ...,  0.0109,  0.0181,  0.0056]],\n",
       "       requires_grad=True)"
      ]
     },
     "execution_count": 59,
     "metadata": {},
     "output_type": "execute_result"
    }
   ],
   "source": [
    "last_transformer_layer.weight\n"
   ]
  },
  {
   "cell_type": "code",
   "execution_count": 60,
   "id": "cba633ea",
   "metadata": {},
   "outputs": [
    {
     "data": {
      "text/plain": [
       "Parameter containing:\n",
       "tensor([[-0.0244,  0.0372, -0.0039,  ...,  0.0058,  0.0118, -0.0236],\n",
       "        [-0.0187,  0.0106,  0.0014,  ...,  0.0026, -0.0002, -0.0079],\n",
       "        [-0.0181, -0.0073,  0.0023,  ...,  0.0111, -0.0156, -0.0186],\n",
       "        ...,\n",
       "        [ 0.0191, -0.0117,  0.0011,  ..., -0.0043, -0.0135,  0.0090],\n",
       "        [ 0.0044,  0.0067,  0.0096,  ...,  0.0028,  0.0055,  0.0280],\n",
       "        [ 0.0151, -0.0155,  0.0210,  ...,  0.0163,  0.0180,  0.0069]],\n",
       "       device='cuda:0', requires_grad=True)"
      ]
     },
     "execution_count": 60,
     "metadata": {},
     "output_type": "execute_result"
    }
   ],
   "source": [
    "list(transformer.modules())[-2].weight"
   ]
  }
 ],
 "metadata": {
  "kernelspec": {
   "display_name": "Python 3 (ipykernel)",
   "language": "python",
   "name": "python3"
  },
  "language_info": {
   "codemirror_mode": {
    "name": "ipython",
    "version": 3
   },
   "file_extension": ".py",
   "mimetype": "text/x-python",
   "name": "python",
   "nbconvert_exporter": "python",
   "pygments_lexer": "ipython3",
   "version": "3.9.15"
  }
 },
 "nbformat": 4,
 "nbformat_minor": 5
}
