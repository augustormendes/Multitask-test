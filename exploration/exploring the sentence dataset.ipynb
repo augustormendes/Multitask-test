{
 "cells": [
  {
   "cell_type": "code",
   "execution_count": 1,
   "id": "9dcab9bd",
   "metadata": {},
   "outputs": [],
   "source": [
    "import pandas as pd"
   ]
  },
  {
   "cell_type": "code",
   "execution_count": 2,
   "id": "f620f2c0",
   "metadata": {},
   "outputs": [],
   "source": [
    "df = pd.read_csv(\"data/segredos_sentenças_multitask.csv\",index_col=0)"
   ]
  },
  {
   "cell_type": "code",
   "execution_count": 5,
   "id": "a85cd402",
   "metadata": {},
   "outputs": [
    {
     "data": {
      "text/plain": [
       "Alteração de sono                                                            25.0\n",
       "Alteração na eficiência/funcionalidade                                       77.0\n",
       "Tristeza/Humor depressivo                                                   279.0\n",
       "Desamparo/Prejuízo social/Solidão                                           257.0\n",
       "Suicído/Auto-extermínio                                                     225.0\n",
       "Postagem com possível perfil depressivo                                     310.0\n",
       "Preocupação/Medo /Ansiedade                                                 115.0\n",
       "Desesperança                                                                104.0\n",
       "Desvalia / Baixa autoestima                                                 142.0\n",
       "Fator de risco                                                              252.0\n",
       "Irritação / agressividade                                                    83.0\n",
       "Sintoma físico                                                               18.0\n",
       "Sentimento de culpa                                                          42.0\n",
       "Morte / Suicído de outro                                                     36.0\n",
       "Fator protetivo, cuidado em saúde e bem-estar                               158.0\n",
       "Dificuldade para decidir                                                     21.0\n",
       "Cansaço/Desânimo/Desencorajamento/Fadiga/Perda de energia / Lentificação     79.0\n",
       "Déficit de atenção/Memória                                                    9.0\n",
       "Sentimento de vazio                                                          28.0\n",
       "Alteração de peso/apetite                                                    14.0\n",
       "Perda/Diminuição do prazer/ Perda/Diminuição da libido                       16.0\n",
       "Sintoma obsessivo e compulsivo                                                2.0\n",
       "Agitação/inquietação                                                          5.0\n",
       "Alteração na eficiência                                                       9.0\n",
       "Alteração da funcionalidade                                                   8.0\n",
       "*                                                                             1.0\n",
       "dtype: float64"
      ]
     },
     "execution_count": 5,
     "metadata": {},
     "output_type": "execute_result"
    }
   ],
   "source": [
    "df.iloc[:,1:].sum()"
   ]
  },
  {
   "cell_type": "code",
   "execution_count": 8,
   "id": "da4280b7",
   "metadata": {},
   "outputs": [
    {
     "data": {
      "text/plain": [
       "2825"
      ]
     },
     "execution_count": 8,
     "metadata": {},
     "output_type": "execute_result"
    }
   ],
   "source": [
    "#quantas sentenças não têm nenhum rótulo associado?\n",
    "sum(df.iloc[:,1:].sum(axis=1) == 0)"
   ]
  },
  {
   "cell_type": "code",
   "execution_count": 10,
   "id": "aba4b765",
   "metadata": {},
   "outputs": [
    {
     "data": {
      "text/plain": [
       "0.5982634476916561"
      ]
     },
     "execution_count": 10,
     "metadata": {},
     "output_type": "execute_result"
    }
   ],
   "source": [
    "#proporcionalmente, mais de metade do dataset\n",
    "#isso pode influenciar negativamente a performance do classificador.\n",
    "sum(df.iloc[:,1:].sum(axis=1) == 0)/df.shape[0]"
   ]
  }
 ],
 "metadata": {
  "kernelspec": {
   "display_name": "Python 3 (ipykernel)",
   "language": "python",
   "name": "python3"
  },
  "language_info": {
   "codemirror_mode": {
    "name": "ipython",
    "version": 3
   },
   "file_extension": ".py",
   "mimetype": "text/x-python",
   "name": "python",
   "nbconvert_exporter": "python",
   "pygments_lexer": "ipython3",
   "version": "3.10.8"
  }
 },
 "nbformat": 4,
 "nbformat_minor": 5
}
