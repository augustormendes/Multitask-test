{
 "cells": [
  {
   "cell_type": "markdown",
   "id": "1d2418e3",
   "metadata": {},
   "source": [
    "Como visto no artigo \"When is multitask learning effective? Semantic sequence prediction under varying data conditions\", nota-se que boas tarefas auxiliares tendem a ter baixo kurtosis e alta entropia.\n",
    "\n",
    "Vamos ver como a tarefa de emoções se sai.\n",
    "E também como a tarefa primária se compara."
   ]
  },
  {
   "cell_type": "code",
   "execution_count": null,
   "id": "e104d819",
   "metadata": {},
   "outputs": [],
   "source": [
    "import pandas as pd\n",
    "df = pd.read_csv(\"data/goemotions/train.tsv\",sep='\\t',index_col=0)\n",
    "\n",
    "emotion_dict = {\n",
    "    \"admiração\": 0,\n",
    "    \"diversão\": 1,\n",
    "    \"raiva\": 2,\n",
    "    \"aborrecimento\": 3,\n",
    "    \"aprovação\": 4,\n",
    "    \"zelo\": 5,\n",
    "    \"confusão\": 6,\n",
    "    \"curiosidade\": 7,\n",
    "    \"desejo\": 8,\n",
    "    \"decepção\": 9,\n",
    "    \"desaprovação\": 10,\n",
    "    \"nojo\": 11,\n",
    "    \"constrangimento\": 12,\n",
    "    \"entusiasmo\": 13,\n",
    "    \"medo\": 14,\n",
    "    \"gratidão\": 15,\n",
    "    \"luto\": 16,\n",
    "    \"alegria\": 17,\n",
    "    \"amor\": 18,\n",
    "    \"nervosismo\": 19,\n",
    "    \"otimismo\": 20,\n",
    "    \"orgulho\": 21,\n",
    "    \"percepção\": 22,\n",
    "    \"alívio\": 23,\n",
    "    \"remorso\": 24,\n",
    "    \"tristeza\": 25,\n",
    "    \"surpresa\": 26,\n",
    "    \"neutro\": 27\n",
    "}"
   ]
  },
  {
   "cell_type": "code",
   "execution_count": null,
   "id": "83db5a78",
   "metadata": {},
   "outputs": [],
   "source": [
    "def change_label_encoding(row):\n",
    "    #mudar encoding para ser multirrótulo (preferível para o cálculo da entropia)\n",
    "    labels = row['labels'].replace(\" \",\"\").split(\",\")\n",
    "    new_row = {}\n",
    "    for emotion in emotion_dict:\n",
    "        if str(emotion_dict[emotion]) in labels:\n",
    "            new_row[emotion] = True\n",
    "        else:\n",
    "            new_row[emotion] = False\n",
    "    return new_row"
   ]
  },
  {
   "cell_type": "code",
   "execution_count": null,
   "id": "24694255",
   "metadata": {},
   "outputs": [],
   "source": [
    "labels = pd.DataFrame(list(df.apply(change_label_encoding,axis=1)))"
   ]
  },
  {
   "cell_type": "markdown",
   "id": "cb36dc40",
   "metadata": {},
   "source": [
    "# Definindo funções"
   ]
  },
  {
   "cell_type": "code",
   "execution_count": null,
   "id": "eb6db6f5",
   "metadata": {},
   "outputs": [],
   "source": [
    "from scipy.stats import entropy\n",
    "from scipy.stats import kurtosis\n",
    "\n",
    "def compute_label_entropy(labels):\n",
    "    #se fosse pra fins de interpretação, labels.sum()/labels.shape[0] faz mais sentido\n",
    "    #mas dá no mesmo no fim!\n",
    "    counts = list(labels.sum())\n",
    "    return entropy(counts)\n",
    "    \n",
    "    "
   ]
  },
  {
   "cell_type": "markdown",
   "id": "00a09d42",
   "metadata": {},
   "source": [
    "# Avaliando no conjunto do GoEmotions"
   ]
  },
  {
   "cell_type": "code",
   "execution_count": null,
   "id": "61bbb952",
   "metadata": {},
   "outputs": [],
   "source": [
    "#comparada com o visto no artigo, isso é uma boa entropia\n",
    "compute_label_entropy(labels)"
   ]
  },
  {
   "cell_type": "code",
   "execution_count": null,
   "id": "09a8ef36",
   "metadata": {},
   "outputs": [],
   "source": [
    "#dropando o \"neutro\" (pode ser considerado como uma classe O do artigo original)\n",
    "#como esperado, a entropia está um pouco maior.\n",
    "compute_label_entropy(labels.drop(columns=\"neutro\"))"
   ]
  },
  {
   "cell_type": "code",
   "execution_count": null,
   "id": "99bc82c8",
   "metadata": {
    "scrolled": true
   },
   "outputs": [],
   "source": [
    "#kurtosis de cada label. Valores beeeem altos para alguns dos rótulos\n",
    "kurtosis(labels)"
   ]
  },
  {
   "cell_type": "code",
   "execution_count": null,
   "id": "22939a74",
   "metadata": {},
   "outputs": [],
   "source": [
    "#tirando a média:\n",
    "kurtosis(labels).mean()"
   ]
  },
  {
   "cell_type": "markdown",
   "id": "bf25e7f9",
   "metadata": {},
   "source": [
    "## Como diminuir kurtosis?\n",
    "\n",
    "É bem possível que essa \"skew\" na distribuição prejudique a capacidade da tarefa ajudar. Qual o efeito de diferentes valores de cutoff de kurtosis na entropia?"
   ]
  },
  {
   "cell_type": "code",
   "execution_count": null,
   "id": "6305836c",
   "metadata": {},
   "outputs": [],
   "source": [
    "def filter_by_kurtosis(labels,cutoff):\n",
    "    columns=[col for col in labels.columns if kurtosis(labels[col]) > cutoff]\n",
    "    return labels.drop(columns=columns)"
   ]
  },
  {
   "cell_type": "code",
   "execution_count": null,
   "id": "55a5de9c",
   "metadata": {},
   "outputs": [],
   "source": [
    "#podemos observar que a entropia de fato cai, mas não cai vertiginosamente nem nada. É bem possível que essa seja uma boa ideia!"
   ]
  },
  {
   "cell_type": "code",
   "execution_count": null,
   "id": "87c2657d",
   "metadata": {},
   "outputs": [],
   "source": [
    "compute_label_entropy(filter_by_kurtosis(labels,300))"
   ]
  },
  {
   "cell_type": "code",
   "execution_count": null,
   "id": "26b4f6ba",
   "metadata": {},
   "outputs": [],
   "source": [
    "compute_label_entropy(filter_by_kurtosis(labels,200))"
   ]
  },
  {
   "cell_type": "code",
   "execution_count": null,
   "id": "ee5ca580",
   "metadata": {},
   "outputs": [],
   "source": [
    "compute_label_entropy(filter_by_kurtosis(labels,50))"
   ]
  },
  {
   "cell_type": "code",
   "execution_count": null,
   "id": "c76199d9",
   "metadata": {},
   "outputs": [],
   "source": [
    "# de forma programática: detecção de outliers\n",
    "#TODO: tentar com zscore também\n",
    "from scipy.stats import zscore\n",
    "from scipy.stats import iqr\n",
    "\n",
    "\n",
    "\n",
    "def filter_by_kurtosis_iqr(labels):\n",
    "    #range interquartil\n",
    "    cutoff = iqr(kurtosis(labels))\n",
    "    columns=[col for col in labels.columns if kurtosis(labels[col]) > cutoff]\n",
    "    return labels.drop(columns=columns)"
   ]
  },
  {
   "cell_type": "code",
   "execution_count": null,
   "id": "9b8172d9",
   "metadata": {},
   "outputs": [],
   "source": [
    "compute_label_entropy(filter_by_kurtosis_iqr(labels))"
   ]
  },
  {
   "cell_type": "markdown",
   "id": "6b937f50",
   "metadata": {},
   "source": [
    "# Conjunto da tarefa primária"
   ]
  },
  {
   "cell_type": "code",
   "execution_count": null,
   "id": "3380c888",
   "metadata": {},
   "outputs": [],
   "source": [
    "df = pd.read_csv(\"data/segredos_sentenças_multitask_clean.csv\",index_col=0)\n",
    "#limpando sintomas que não usamos mais\n",
    "df = df.drop([\"Postagem com possível perfil depressivo\",\"Alteração na eficiência\",\n",
    "         \"Alteração da funcionalidade\",\"*\",'Agitação/inquietação','Sintoma obsessivo e compulsivo','Déficit de atenção/Memória',\n",
    "              'Perda/Diminuição do prazer/ Perda/Diminuição da libido'],axis=1)\n",
    "labels = df.iloc[:,1:]\n",
    "labels"
   ]
  },
  {
   "cell_type": "code",
   "execution_count": null,
   "id": "744e959f",
   "metadata": {
    "scrolled": true
   },
   "outputs": [],
   "source": [
    "#nada mal,mesmo sem dropar instâncias neutras\n",
    "compute_label_entropy(labels)"
   ]
  },
  {
   "cell_type": "code",
   "execution_count": null,
   "id": "7e120cf9",
   "metadata": {},
   "outputs": [],
   "source": [
    "compute_label_entropy(filter_by_kurtosis_iqr(labels))"
   ]
  },
  {
   "cell_type": "code",
   "execution_count": null,
   "id": "392d2c95",
   "metadata": {},
   "outputs": [],
   "source": [
    "#kurtosis beem ruim para alguns rótulos, mesmo após filtragem\n",
    "print(kurtosis(labels))\n",
    "#esses são os rótulos: justamente aqueles que são mais díficeis de prever\n",
    "#mas temos que lembrar que isso não é bem regra: Alteração de sono tem um kurtosis de 183 e é bem classificado\n",
    "labels.columns[kurtosis(labels) > 200]"
   ]
  },
  {
   "cell_type": "markdown",
   "id": "3c288381",
   "metadata": {},
   "source": [
    "## removendo instâncias sem rótulo"
   ]
  },
  {
   "cell_type": "code",
   "execution_count": null,
   "id": "ebc349c4",
   "metadata": {},
   "outputs": [],
   "source": [
    "\n",
    "labels = labels.reset_index(drop=True)\n",
    "labels = labels[labels.sum(axis=1) != 0]"
   ]
  },
  {
   "cell_type": "code",
   "execution_count": null,
   "id": "d03792d0",
   "metadata": {},
   "outputs": [],
   "source": [
    "#Não afeta a entropia, a proporção continua a mesma.\n",
    "compute_label_entropy(labels)"
   ]
  },
  {
   "cell_type": "code",
   "execution_count": null,
   "id": "f6200cc3",
   "metadata": {},
   "outputs": [],
   "source": [
    "#mas afeta o kurtosis\n",
    "print(kurtosis(labels))"
   ]
  },
  {
   "cell_type": "code",
   "execution_count": null,
   "id": "a2fc80f8",
   "metadata": {},
   "outputs": [],
   "source": [
    "#mas ainda não muda isso aqui:\n",
    "compute_label_entropy(filter_by_kurtosis_iqr(labels))"
   ]
  }
 ],
 "metadata": {
  "kernelspec": {
   "display_name": "Python 3 (ipykernel)",
   "language": "python",
   "name": "python3"
  },
  "language_info": {
   "codemirror_mode": {
    "name": "ipython",
    "version": 3
   },
   "file_extension": ".py",
   "mimetype": "text/x-python",
   "name": "python",
   "nbconvert_exporter": "python",
   "pygments_lexer": "ipython3",
   "version": "3.10.8"
  }
 },
 "nbformat": 4,
 "nbformat_minor": 5
}
